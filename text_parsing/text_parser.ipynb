{
 "cells": [
  {
   "cell_type": "code",
   "execution_count": 13,
   "id": "5cdef3c4-6ba3-4938-a712-18f0fc032a9d",
   "metadata": {},
   "outputs": [],
   "source": [
    "import apache_beam as beam\n",
    "import glob\n",
    "import os\n",
    "import sys\n",
    "import string\n",
    "\n",
    "from datetime import datetime\n",
    "from apache_beam.options import pipeline_options\n",
    "from apache_beam.options.pipeline_options import GoogleCloudOptions\n",
    "from apache_beam.runners import DataflowRunner\n",
    "\n",
    "import apache_beam.runners.interactive.interactive_beam as ib\n",
    "from apache_beam.runners.interactive.interactive_runner import InteractiveRunner"
   ]
  },
  {
   "cell_type": "code",
   "execution_count": 4,
   "id": "f2e1aaac-c314-4705-8a27-24c60a4322be",
   "metadata": {},
   "outputs": [
    {
     "name": "stdout",
     "output_type": "stream",
     "text": [
      "Copying gs://text-analysis-323506/data/data_archive.zip...\n",
      "==> NOTE: You are downloading one or more large file(s), which would            \n",
      "run significantly faster if you enabled sliced object downloads. This\n",
      "feature is enabled by default but requires that compiled crcmod be\n",
      "installed (see \"gsutil help crcmod\").\n",
      "\n",
      "Archive:  ./data/data_archive.zip]  99% Done                                    \n",
      "  inflating: test.ft.txt.bz2         \n",
      "  inflating: train.ft.txt.bz2        \n"
     ]
    }
   ],
   "source": [
    "! gsutil -m cp -r gs://text-analysis-323506/data ./\n",
    "! unzip ./data/data_archive.zip \n",
    "! bzip2 -d train.ft.txt.bz2 \n",
    "! bzip2 -d test.ft.txt.bz2\n",
    "! mv *.ft.txt ./data/"
   ]
  },
  {
   "cell_type": "code",
   "execution_count": 15,
   "id": "8b974d70-c5b7-421f-aac3-ccee7248c21d",
   "metadata": {},
   "outputs": [],
   "source": [
    "def contract_line(line: str):\n",
    "    contraction_dict = {\"ain't\": \"are not\", \"'s\":\" is\", \"aren't\": \"are not\", \"don't\": \"do not\", \"didn't\": \"did not\", \"won't\": \"will not\", \n",
    "                   \"can't\": \"cannot\"}\n",
    "    \n",
    "    words = line.split()\n",
    "    for i in range(len(words)):\n",
    "        if words[i] in contraction_dict:\n",
    "            words[i] = contraction_dict[words[i]]\n",
    "    return ' '.join(words)"
   ]
  },
  {
   "cell_type": "code",
   "execution_count": 16,
   "id": "8f151079-0f47-4562-a950-48828ce14011",
   "metadata": {},
   "outputs": [],
   "source": [
    "def to_lower_case(line: str):\n",
    "    return line.lower()"
   ]
  },
  {
   "cell_type": "code",
   "execution_count": 17,
   "id": "33ef7d7a-154a-48ae-95ca-75a3294edb31",
   "metadata": {},
   "outputs": [],
   "source": [
    "def remove_punctuations(line: str):\n",
    "    return line.translate(str.maketrans('', '', string.punctuation))"
   ]
  },
  {
   "cell_type": "code",
   "execution_count": 18,
   "id": "0dd2831e-3632-4b07-b517-65167b9363bb",
   "metadata": {},
   "outputs": [],
   "source": [
    "def remove_stopwords(line: str):\n",
    "    from nltk.corpus import stopwords\n",
    "    \n",
    "    stop_words = set(stopwords.words('english'))\n",
    "    return \" \".join([word for word in line.split() if word not in stop_words])"
   ]
  },
  {
   "cell_type": "code",
   "execution_count": 21,
   "id": "3105ccb6-ee42-4af8-a481-759f58d18e6a",
   "metadata": {},
   "outputs": [],
   "source": [
    "def remove_special_chars(line: str):\n",
    "    import re\n",
    "    return re.sub('[\\W\\_]','',line)"
   ]
  },
  {
   "cell_type": "code",
   "execution_count": null,
   "id": "a5962e8a-80b7-4a0f-8b2d-066863aa96dc",
   "metadata": {},
   "outputs": [],
   "source": []
  }
 ],
 "metadata": {
  "kernelspec": {
   "display_name": "1. Apache Beam 2.33.0 for Python 3",
   "language": "python",
   "name": "1-apache-beam-2.33.0"
  },
  "language_info": {
   "codemirror_mode": {
    "name": "ipython",
    "version": 3
   },
   "file_extension": ".py",
   "mimetype": "text/x-python",
   "name": "python",
   "nbconvert_exporter": "python",
   "pygments_lexer": "ipython3",
   "version": "3.7.10"
  }
 },
 "nbformat": 4,
 "nbformat_minor": 5
}
