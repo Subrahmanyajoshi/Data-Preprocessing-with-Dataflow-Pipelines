{
 "cells": [
  {
   "cell_type": "code",
   "execution_count": 39,
   "id": "4ca772d1-1b6b-4f59-a65d-cbebbb363659",
   "metadata": {},
   "outputs": [],
   "source": [
    "import apache_beam as beam\n",
    "import pandas as pd\n",
    "import glob\n",
    "import os\n",
    "\n",
    "from datetime import datetime"
   ]
  },
  {
   "cell_type": "code",
   "execution_count": 46,
   "id": "be9642f8-55e6-4805-9ab5-a8d5ae97828d",
   "metadata": {},
   "outputs": [],
   "source": [
    "count = 0\n",
    "def print_info(df):\n",
    "    global count\n",
    "    count = count + 1\n",
    "    \n",
    "    print(\"\")\n",
    "    print(\"Dataframe:\", count)\n",
    "    print(\"columns: \", list(df.columns))\n",
    "    print(\"Shape: \", df.shape)\n",
    "    print(\"\")"
   ]
  },
  {
   "cell_type": "code",
   "execution_count": 41,
   "id": "056fe261-0746-47da-810c-14a93d53cde0",
   "metadata": {},
   "outputs": [],
   "source": [
    "p = beam.Pipeline()"
   ]
  },
  {
   "cell_type": "code",
   "execution_count": 42,
   "id": "4bde4de9-5901-45db-be8d-feecd71ceeb2",
   "metadata": {},
   "outputs": [],
   "source": [
    "data_pipeline = (\n",
    "                p \n",
    "                | 'List csv files' >> beam.Create(glob.glob('./data/*.csv'))\n",
    "                | 'Read csv files' >> beam.Map((pd.read_csv))\n",
    "                | 'Print csv details' >> beam.Map(print_info)\n",
    "             )"
   ]
  },
  {
   "cell_type": "markdown",
   "id": "f572c46a-491e-4836-acd7-af323a5d463b",
   "metadata": {},
   "source": [
    "##### Make sure tar file in './data' folder is un-tarred. That will yield 4 csv files."
   ]
  },
  {
   "cell_type": "code",
   "execution_count": 43,
   "id": "bfb2b8dd-8e8b-4d81-9ec7-f4c05b6c26d6",
   "metadata": {},
   "outputs": [
    {
     "name": "stderr",
     "output_type": "stream",
     "text": [
      "WARNING:root:Make sure that locally built Python SDK docker image has Python 3.7 interpreter.\n",
      "/root/apache-beam-2.33.0/lib/python3.7/site-packages/apache_beam/runners/worker/sdk_worker.py:640: DtypeWarning: Columns (11,12) have mixed types.Specify dtype option on import or set low_memory=False.\n",
      "  bundle_processor.process_bundle(instruction_id))\n"
     ]
    },
    {
     "name": "stdout",
     "output_type": "stream",
     "text": [
      "\n",
      "Dataframe: 1\n",
      "columns:  ['Series_reference', 'Period', 'Data_value', 'STATUS', 'UNITS', 'MAGNTUDE', 'Subject', 'Group', 'Series_title_1', 'Series_title_2', 'Series_title_3', 'Series_title_4', 'Series_title_5']\n",
      "Shape:  (1118488, 13)\n",
      "\n",
      "\n",
      "Dataframe: 2\n",
      "columns:  ['Series_reference', 'Period', 'Data_value', 'STATUS', 'UNITS', 'MAGNTUDE', 'Subject', 'Group', 'Series_title_1', 'Series_title_2', 'Series_title_3', 'Series_title_4', 'Series_title_5']\n",
      "Shape:  (25468, 13)\n",
      "\n"
     ]
    },
    {
     "name": "stderr",
     "output_type": "stream",
     "text": [
      "/root/apache-beam-2.33.0/lib/python3.7/site-packages/apache_beam/runners/worker/sdk_worker.py:640: DtypeWarning: Columns (9,10,11,12,13,14,15,16,17,18,19,20,21,22,23,24,25,26,27,28,29,30,31,32,33,34,35,36,37,38,39,40,41,42,43,44,45,46,47,48,49,50) have mixed types.Specify dtype option on import or set low_memory=False.\n",
      "  bundle_processor.process_bundle(instruction_id))\n"
     ]
    },
    {
     "name": "stdout",
     "output_type": "stream",
     "text": [
      "\n",
      "Dataframe: 3\n",
      "columns:  ['STATUS', 'SER_NBR', 'Series_reference', 'Period', 'Data_value', 'UNITS', 'MAGNTUDE', 'Subject', 'Group', 'Age Group 3 brackets', 'Age Group', 'Age Group 6 brackets', 'Duration of unemployment', 'Employed and Unemployed Persons, Full-Time and Part-Time Status', 'Employment relationship', 'Employment status', 'Ethnic Single / Combination', 'Ethnic Total Response', 'Formal study status', 'Highest qualification', 'Hours Worked', 'Household Composition', 'Household Labour Force Status', 'Industry ANZSIC06', 'Industry ANZSIC06 Supplementary', 'Job', 'Job tenure', 'Labour force and education status', 'Labour Force Status', 'Main activity', 'Main job', 'Methods of seeking employment', 'Occupation ANZSCO Level 1', 'Percentage change from previous period and same period previous year', 'Persons Employed, Unemployed, Not in Labour Force (for current quarter)', 'Reason for leaving last job', 'Reason not seeking work', 'Reason not wanting work', 'Reasons not available for work', 'Regional Council', 'Sampling Errors', 'Seasonally Adjusted/Trend Series', 'Second job', 'Sex', 'Total Number of Actual Hours Worked Each Week', 'Total Number of Usual Hours Worked Each Week', 'Type of employment agreement', 'Underemployment', 'Underutilisation', 'Union membership', 'Youth age groups']\n",
      "Shape:  (918761, 51)\n",
      "\n"
     ]
    },
    {
     "name": "stderr",
     "output_type": "stream",
     "text": [
      "/root/apache-beam-2.33.0/lib/python3.7/site-packages/apache_beam/runners/worker/sdk_worker.py:640: DtypeWarning: Columns (11) have mixed types.Specify dtype option on import or set low_memory=False.\n",
      "  bundle_processor.process_bundle(instruction_id))\n"
     ]
    },
    {
     "name": "stdout",
     "output_type": "stream",
     "text": [
      "\n",
      "Dataframe: 4\n",
      "columns:  ['Series_reference', 'Period', 'Data_value', 'STATUS', 'UNITS', 'MAGNTUDE', 'Subject', 'Group', 'Series_title_1', 'Series_title_2', 'Series_title_3', 'Series_title_4', 'Series_title_5']\n",
      "Shape:  (174259, 13)\n",
      "\n"
     ]
    }
   ],
   "source": [
    "start_time = datetime.now()\n",
    "p.run().wait_until_finish()\n",
    "end_time = datetime.now()"
   ]
  },
  {
   "cell_type": "markdown",
   "id": "cc3a6572-fb19-47f0-a2a2-19d8dec39418",
   "metadata": {},
   "source": [
    "### Time taken when using pipeline"
   ]
  },
  {
   "cell_type": "code",
   "execution_count": 44,
   "id": "2521bc6c-2e0c-4e14-897e-f2deae6eae57",
   "metadata": {},
   "outputs": [
    {
     "name": "stdout",
     "output_type": "stream",
     "text": [
      "Time taken: 17.993493 Seconds\n"
     ]
    }
   ],
   "source": [
    "print(f\"Time taken: {(end_time - start_time).total_seconds()} Seconds\")"
   ]
  },
  {
   "cell_type": "code",
   "execution_count": null,
   "id": "bab7c190-5adc-4aba-ae93-3405ea3713d1",
   "metadata": {},
   "outputs": [],
   "source": []
  },
  {
   "cell_type": "code",
   "execution_count": 47,
   "id": "35d8a4ee-e673-48ef-a5e8-57c78c592c51",
   "metadata": {},
   "outputs": [
    {
     "name": "stdout",
     "output_type": "stream",
     "text": [
      "\n",
      "Dataframe: 1\n",
      "columns:  ['Series_reference', 'Period', 'Data_value', 'STATUS', 'UNITS', 'MAGNTUDE', 'Subject', 'Group', 'Series_title_1', 'Series_title_2', 'Series_title_3', 'Series_title_4', 'Series_title_5']\n",
      "Shape:  (1118488, 13)\n",
      "\n",
      "\n",
      "Dataframe: 2\n",
      "columns:  ['Series_reference', 'Period', 'Data_value', 'STATUS', 'UNITS', 'MAGNTUDE', 'Subject', 'Group', 'Series_title_1', 'Series_title_2', 'Series_title_3', 'Series_title_4', 'Series_title_5']\n",
      "Shape:  (25468, 13)\n",
      "\n",
      "\n",
      "Dataframe: 3\n",
      "columns:  ['STATUS', 'SER_NBR', 'Series_reference', 'Period', 'Data_value', 'UNITS', 'MAGNTUDE', 'Subject', 'Group', 'Age Group 3 brackets', 'Age Group', 'Age Group 6 brackets', 'Duration of unemployment', 'Employed and Unemployed Persons, Full-Time and Part-Time Status', 'Employment relationship', 'Employment status', 'Ethnic Single / Combination', 'Ethnic Total Response', 'Formal study status', 'Highest qualification', 'Hours Worked', 'Household Composition', 'Household Labour Force Status', 'Industry ANZSIC06', 'Industry ANZSIC06 Supplementary', 'Job', 'Job tenure', 'Labour force and education status', 'Labour Force Status', 'Main activity', 'Main job', 'Methods of seeking employment', 'Occupation ANZSCO Level 1', 'Percentage change from previous period and same period previous year', 'Persons Employed, Unemployed, Not in Labour Force (for current quarter)', 'Reason for leaving last job', 'Reason not seeking work', 'Reason not wanting work', 'Reasons not available for work', 'Regional Council', 'Sampling Errors', 'Seasonally Adjusted/Trend Series', 'Second job', 'Sex', 'Total Number of Actual Hours Worked Each Week', 'Total Number of Usual Hours Worked Each Week', 'Type of employment agreement', 'Underemployment', 'Underutilisation', 'Union membership', 'Youth age groups']\n",
      "Shape:  (918761, 51)\n",
      "\n"
     ]
    },
    {
     "name": "stderr",
     "output_type": "stream",
     "text": [
      "/root/apache-beam-2.33.0/lib/python3.7/site-packages/IPython/core/interactiveshell.py:3173: DtypeWarning: Columns (11) have mixed types.Specify dtype option on import or set low_memory=False.\n",
      "  interactivity=interactivity, compiler=compiler, result=result)\n"
     ]
    },
    {
     "name": "stdout",
     "output_type": "stream",
     "text": [
      "\n",
      "Dataframe: 4\n",
      "columns:  ['Series_reference', 'Period', 'Data_value', 'STATUS', 'UNITS', 'MAGNTUDE', 'Subject', 'Group', 'Series_title_1', 'Series_title_2', 'Series_title_3', 'Series_title_4', 'Series_title_5']\n",
      "Shape:  (174259, 13)\n",
      "\n"
     ]
    }
   ],
   "source": [
    "start_time = datetime.now()\n",
    "for csv_file in glob.glob('./data/*.csv'):\n",
    "    df = pd.read_csv(csv_file)\n",
    "    print_info(df)\n",
    "end_time = datetime.now()"
   ]
  },
  {
   "cell_type": "markdown",
   "id": "ad6874cf-85ce-4794-a2ac-256897fa0d4a",
   "metadata": {
    "tags": []
   },
   "source": [
    "### Time taken when using python directly"
   ]
  },
  {
   "cell_type": "code",
   "execution_count": 48,
   "id": "4567f8e0-47ef-42db-ba49-a1a5c4c38bdb",
   "metadata": {},
   "outputs": [
    {
     "name": "stdout",
     "output_type": "stream",
     "text": [
      "Time taken: 13.67685 Seconds\n"
     ]
    }
   ],
   "source": [
    "print(f\"Time taken: {(end_time - start_time).total_seconds()} Seconds\")"
   ]
  },
  {
   "cell_type": "markdown",
   "id": "eb1b2ff3-25ff-4c7a-aeb4-36bef37fee6e",
   "metadata": {},
   "source": [
    "##### Python looks slightly faster here. But when the same job is submitted to cloud dataflow, it'll be faster since it uses distributed systems and also it's scalable. "
   ]
  },
  {
   "cell_type": "code",
   "execution_count": null,
   "id": "08f2b37b-8641-475f-85da-a207a8e25e70",
   "metadata": {},
   "outputs": [],
   "source": []
  }
 ],
 "metadata": {
  "kernelspec": {
   "display_name": "1. Apache Beam 2.33.0 for Python 3",
   "language": "python",
   "name": "1-apache-beam-2.33.0"
  },
  "language_info": {
   "codemirror_mode": {
    "name": "ipython",
    "version": 3
   },
   "file_extension": ".py",
   "mimetype": "text/x-python",
   "name": "python",
   "nbconvert_exporter": "python",
   "pygments_lexer": "ipython3",
   "version": "3.7.10"
  }
 },
 "nbformat": 4,
 "nbformat_minor": 5
}
