{
 "cells": [
  {
   "cell_type": "code",
   "execution_count": null,
   "id": "4ca772d1-1b6b-4f59-a65d-cbebbb363659",
   "metadata": {},
   "outputs": [],
   "source": [
    "import apache_beam as beam\n",
    "import pandas as pd\n",
    "import glob\n",
    "import os\n",
    "\n",
    "from google.cloud import bigquery\n",
    "from google.cloud import storage\n",
    "\n",
    "import google.auth\n",
    "\n",
    "from datetime import datetime\n",
    "\n",
    "from apache_beam.options import pipeline_options\n",
    "from apache_beam.options.pipeline_options import GoogleCloudOptions\n",
    "from apache_beam.runners import DataflowRunner\n",
    "\n",
    "import apache_beam.runners.interactive.interactive_beam as ib\n",
    "from apache_beam.runners.interactive.interactive_runner import InteractiveRunner"
   ]
  },
  {
   "cell_type": "markdown",
   "id": "e6d89ca9-5d4c-4e9c-9d0b-e599afb4a6c5",
   "metadata": {},
   "source": [
    "To access data in our csv files, it needs to be put on a bigquery table first."
   ]
  },
  {
   "cell_type": "markdown",
   "id": "67e95e02-e9d2-491d-ac00-c2fe5c82d058",
   "metadata": {},
   "source": [
    "## Pushing data in csv files to a bigquery table  "
   ]
  },
  {
   "cell_type": "code",
   "execution_count": 6,
   "id": "cd4a0dce-969a-445d-a30f-be13bc933994",
   "metadata": {},
   "outputs": [],
   "source": [
    "bq_client = bigquery.Client()"
   ]
  },
  {
   "cell_type": "markdown",
   "id": "151b8eb7-bf86-447c-9ad2-89424244246e",
   "metadata": {},
   "source": [
    "### Create Dataset"
   ]
  },
  {
   "cell_type": "code",
   "execution_count": 7,
   "id": "2f2e8359-e7c5-4d6f-9b8f-35b0b11f9844",
   "metadata": {},
   "outputs": [],
   "source": [
    "dataset = bigquery.Dataset('text-analysis-323506.dataflow_dataset')"
   ]
  },
  {
   "cell_type": "code",
   "execution_count": 8,
   "id": "e8c834f3-4cbd-4099-85ab-01053013beae",
   "metadata": {},
   "outputs": [],
   "source": [
    "dataset.location = \"us-east1\""
   ]
  },
  {
   "cell_type": "code",
   "execution_count": 9,
   "id": "985029d9-7919-4230-8e03-f6ff59471d52",
   "metadata": {},
   "outputs": [],
   "source": [
    "dataset = bq_client.create_dataset(dataset, timeout=30)"
   ]
  },
  {
   "cell_type": "markdown",
   "id": "69088c6d-b4c4-4103-af0a-f5c42536a6a1",
   "metadata": {},
   "source": [
    "### Create Table "
   ]
  },
  {
   "cell_type": "code",
   "execution_count": 26,
   "id": "6090a6fc-450d-4cb4-9d57-2751cf4ab3d4",
   "metadata": {},
   "outputs": [],
   "source": [
    "schema = [\n",
    "        bigquery.SchemaField(\"Series_reference\", \"STRING\", mode=\"NULLABLE\"),\n",
    "        bigquery.SchemaField(\"Period\", \"FLOAT\", mode=\"NULLABLE\"),\n",
    "        bigquery.SchemaField(\"Data_value\", \"FLOAT\", mode=\"NULLABLE\"),\n",
    "        bigquery.SchemaField(\"STATUS\", \"STRING\", mode=\"NULLABLE\"),\n",
    "        bigquery.SchemaField(\"UNITS\", \"STRING\", mode=\"NULLABLE\"),\n",
    "        bigquery.SchemaField(\"MAGNTUDE\", \"INTEGER\", mode=\"NULLABLE\"),\n",
    "        bigquery.SchemaField(\"Subject\", \"STRING\", mode=\"NULLABLE\"),\n",
    "        bigquery.SchemaField(\"Group\", \"STRING\", mode=\"NULLABLE\"),\n",
    "        bigquery.SchemaField(\"Series_title_1\", \"STRING\", mode=\"NULLABLE\"),\n",
    "        bigquery.SchemaField(\"Series_title_2\", \"STRING\", mode=\"NULLABLE\"),\n",
    "        bigquery.SchemaField(\"Series_title_3\", \"STRING\", mode=\"NULLABLE\"),\n",
    "        bigquery.SchemaField(\"Series_title_4\", \"STRING\", mode=\"NULLABLE\"),\n",
    "        bigquery.SchemaField(\"Series_title_5\", \"STRING\", mode=\"NULLABLE\"),\n",
    "    ]"
   ]
  },
  {
   "cell_type": "code",
   "execution_count": 27,
   "id": "322dbfeb-13dd-4e54-b2aa-b008a9a17919",
   "metadata": {},
   "outputs": [],
   "source": [
    "table_id = 'text-analysis-323506.dataflow_dataset.df_table'"
   ]
  },
  {
   "cell_type": "code",
   "execution_count": 28,
   "id": "f2f430dd-8725-41b0-8745-451ddf244ac5",
   "metadata": {},
   "outputs": [],
   "source": [
    "table = bigquery.Table(table_id, schema=schema)"
   ]
  },
  {
   "cell_type": "code",
   "execution_count": 29,
   "id": "b7141470-55ab-41f7-81fb-64e5c8b04c67",
   "metadata": {},
   "outputs": [],
   "source": [
    "table = bq_client.create_table(table)"
   ]
  },
  {
   "cell_type": "markdown",
   "id": "f3fa7eb3-b937-445d-bb61-6be1f9e58eba",
   "metadata": {},
   "source": [
    "## Insert data into table"
   ]
  },
  {
   "cell_type": "code",
   "execution_count": 30,
   "id": "7e453aa8-57cf-4e67-9468-43697e85e3c7",
   "metadata": {},
   "outputs": [],
   "source": [
    "file_list = glob.glob('./data/*.csv')\n",
    "gcs_dir = 'gs://text-analysis-323506/data'"
   ]
  },
  {
   "cell_type": "code",
   "execution_count": 31,
   "id": "1577a085-0e5d-4def-906f-51fd75955414",
   "metadata": {},
   "outputs": [],
   "source": [
    "# Job Config\n",
    "\n",
    "job_config = bigquery.LoadJobConfig(\n",
    "    schema=schema,\n",
    "    skip_leading_rows=1,\n",
    "    # The source format defaults to CSV, so the line below is optional.\n",
    "    source_format=bigquery.SourceFormat.CSV,\n",
    "    # WRITE_TRUNCATE replaces existing data \n",
    "    write_disposition=bigquery.WriteDisposition.WRITE_APPEND\n",
    ")"
   ]
  },
  {
   "cell_type": "code",
   "execution_count": 32,
   "id": "a38b0f33-1a7a-4a6c-a69e-a156e2986598",
   "metadata": {},
   "outputs": [],
   "source": [
    "for file in file_list:\n",
    "    os.system(f'gsutil -m cp {file} {gcs_dir}')\n",
    "    gcs_uri = os.path.join(gcs_dir, os.path.basename(file))\n",
    "    \n",
    "    load_job = bq_client.load_table_from_uri(\n",
    "        gcs_uri, table_id, job_config=job_config, \n",
    "    )\n",
    "    \n",
    "    load_job.result()  # Waits for the job to complete."
   ]
  },
  {
   "cell_type": "code",
   "execution_count": 33,
   "id": "754c0089-2ce3-4ea5-88b7-28c2d22ead01",
   "metadata": {},
   "outputs": [
    {
     "name": "stdout",
     "output_type": "stream",
     "text": [
      "Loaded 1318215 rows.\n"
     ]
    }
   ],
   "source": [
    "destination_table = bq_client.get_table(table_id)\n",
    "print(\"Loaded {} rows.\".format(destination_table.num_rows))"
   ]
  },
  {
   "cell_type": "markdown",
   "id": "7b75858a-2319-4013-9680-f07fd97a8538",
   "metadata": {},
   "source": [
    "#### Data is in BigQuery table"
   ]
  },
  {
   "cell_type": "code",
   "execution_count": null,
   "id": "0d703e0d-3895-4b9f-aaf5-67584ee999a1",
   "metadata": {},
   "outputs": [],
   "source": []
  },
  {
   "cell_type": "code",
   "execution_count": null,
   "id": "964785c3-4119-40d8-acd6-5a33b7fb29f5",
   "metadata": {},
   "outputs": [],
   "source": []
  },
  {
   "cell_type": "code",
   "execution_count": 44,
   "id": "be9642f8-55e6-4805-9ab5-a8d5ae97828d",
   "metadata": {},
   "outputs": [],
   "source": [
    "count = 0\n",
    "def get_info(df):\n",
    "    global count\n",
    "    count = count + 1\n",
    "    return {'df_num': count, 'columns': list(df.columns), 'shape': df.shape}"
   ]
  },
  {
   "cell_type": "code",
   "execution_count": 45,
   "id": "8ab7d0bc-94d2-44d1-a71a-7de770649b53",
   "metadata": {},
   "outputs": [],
   "source": [
    "def list_files(filepath: str):\n",
    "    if filepath.startswith('gs://'):\n",
    "        os.system(f'gsutil -m cp {filepath} /tmp/')\n",
    "        return glob.glob(os.path.join('/tmp/', os.path.basename(filepath)))\n",
    "    else:\n",
    "        return glob.glob(filepath)"
   ]
  },
  {
   "cell_type": "code",
   "execution_count": 46,
   "id": "d3cbd0ed-8689-4f81-95a1-87870b585d4d",
   "metadata": {},
   "outputs": [],
   "source": [
    "# Create pipeline object\n",
    "p = beam.Pipeline(InteractiveRunner())"
   ]
  },
  {
   "cell_type": "code",
   "execution_count": 47,
   "id": "4bde4de9-5901-45db-be8d-feecd71ceeb2",
   "metadata": {},
   "outputs": [],
   "source": [
    "# Add pipeline components\n",
    "csv_details =   (\n",
    "                    p \n",
    "                    | 'List csv files' >> beam.Create(list_files('gs://text-analysis-323506/data/*.csv'))\n",
    "                    | 'Read csv files' >> beam.Map(pd.read_csv)\n",
    "                    | 'Get csv details' >> beam.Map(get_info)\n",
    "                 )"
   ]
  },
  {
   "cell_type": "markdown",
   "id": "b077abe8-e120-464d-8629-683fede0e3e6",
   "metadata": {},
   "source": [
    "#### Visualize Pipeline"
   ]
  },
  {
   "cell_type": "code",
   "execution_count": 48,
   "id": "e46c1bf4-5f45-4b8d-aa08-b959801a8bfc",
   "metadata": {},
   "outputs": [
    {
     "data": {
      "text/html": [
       "\n",
       "            <link rel=\"stylesheet\" href=\"https://stackpath.bootstrapcdn.com/bootstrap/4.4.1/css/bootstrap.min.css\" integrity=\"sha384-Vkoo8x4CGsO3+Hhxv8T/Q5PaXtkKtu6ug5TOeNV6gBiFeWPGFN9MuhOf23Q9Ifjh\" crossorigin=\"anonymous\">\n",
       "            <div id=\"progress_indicator_96cc317484189842a0cf47c7b27f4284\" class=\"spinner-border text-info\" role=\"status\">\n",
       "            </div>"
      ],
      "text/plain": [
       "<IPython.core.display.HTML object>"
      ]
     },
     "metadata": {},
     "output_type": "display_data"
    },
    {
     "data": {
      "text/html": [
       "<?xml version=\"1.0\" encoding=\"UTF-8\" standalone=\"no\"?>\n",
       "<!DOCTYPE svg PUBLIC \"-//W3C//DTD SVG 1.1//EN\"\n",
       " \"http://www.w3.org/Graphics/SVG/1.1/DTD/svg11.dtd\">\n",
       "<!-- Generated by graphviz version 2.40.1 (20161225.0304)\n",
       " -->\n",
       "<!-- Title: G Pages: 1 -->\n",
       "<svg width=\"169pt\" height=\"493pt\"\n",
       " viewBox=\"0.00 0.00 169.00 492.79\" xmlns=\"http://www.w3.org/2000/svg\" xmlns:xlink=\"http://www.w3.org/1999/xlink\">\n",
       "<g id=\"graph0\" class=\"graph\" transform=\"scale(1 1) rotate(0) translate(4 488.7889)\">\n",
       "<title>G</title>\n",
       "<polygon fill=\"#ffffff\" stroke=\"transparent\" points=\"-4,4 -4,-488.7889 165,-488.7889 165,4 -4,4\"/>\n",
       "<!-- [47]: List csv files -->\n",
       "<g id=\"node1\" class=\"node\">\n",
       "<title>[47]: List csv files</title>\n",
       "<polygon fill=\"none\" stroke=\"#0000ff\" points=\"153,-484.7889 8,-484.7889 8,-448.7889 153,-448.7889 153,-484.7889\"/>\n",
       "<text text-anchor=\"middle\" x=\"80.5\" y=\"-463.0889\" font-family=\"Times,serif\" font-size=\"14.00\" fill=\"#0000ff\">[47]: List csv files</text>\n",
       "</g>\n",
       "<!-- pcoll566 -->\n",
       "<g id=\"node2\" class=\"node\">\n",
       "<title>pcoll566</title>\n",
       "<ellipse fill=\"none\" stroke=\"#0000ff\" cx=\"80.5\" cy=\"-394.7889\" rx=\"18\" ry=\"18\"/>\n",
       "</g>\n",
       "<!-- [47]: List csv files&#45;&gt;pcoll566 -->\n",
       "<g id=\"edge1\" class=\"edge\">\n",
       "<title>[47]: List csv files&#45;&gt;pcoll566</title>\n",
       "<path fill=\"none\" stroke=\"#000000\" d=\"M80.5,-448.6203C80.5,-440.9199 80.5,-431.7633 80.5,-423.2056\"/>\n",
       "<polygon fill=\"#000000\" stroke=\"#000000\" points=\"84.0001,-423.2022 80.5,-413.2022 77.0001,-423.2022 84.0001,-423.2022\"/>\n",
       "</g>\n",
       "<!-- [47]: Read csv files -->\n",
       "<g id=\"node3\" class=\"node\">\n",
       "<title>[47]: Read csv files</title>\n",
       "<polygon fill=\"none\" stroke=\"#0000ff\" points=\"157,-340.7889 4,-340.7889 4,-304.7889 157,-304.7889 157,-340.7889\"/>\n",
       "<text text-anchor=\"middle\" x=\"80.5\" y=\"-319.0889\" font-family=\"Times,serif\" font-size=\"14.00\" fill=\"#0000ff\">[47]: Read csv files</text>\n",
       "</g>\n",
       "<!-- pcoll566&#45;&gt;[47]: Read csv files -->\n",
       "<g id=\"edge2\" class=\"edge\">\n",
       "<title>pcoll566&#45;&gt;[47]: Read csv files</title>\n",
       "<path fill=\"none\" stroke=\"#000000\" d=\"M80.5,-376.6203C80.5,-368.9199 80.5,-359.7633 80.5,-351.2056\"/>\n",
       "<polygon fill=\"#000000\" stroke=\"#000000\" points=\"84.0001,-351.2022 80.5,-341.2022 77.0001,-351.2022 84.0001,-351.2022\"/>\n",
       "</g>\n",
       "<!-- pcoll4444 -->\n",
       "<g id=\"node4\" class=\"node\">\n",
       "<title>pcoll4444</title>\n",
       "<ellipse fill=\"none\" stroke=\"#0000ff\" cx=\"80.5\" cy=\"-250.7889\" rx=\"18\" ry=\"18\"/>\n",
       "</g>\n",
       "<!-- [47]: Read csv files&#45;&gt;pcoll4444 -->\n",
       "<g id=\"edge3\" class=\"edge\">\n",
       "<title>[47]: Read csv files&#45;&gt;pcoll4444</title>\n",
       "<path fill=\"none\" stroke=\"#000000\" d=\"M80.5,-304.6203C80.5,-296.9199 80.5,-287.7633 80.5,-279.2056\"/>\n",
       "<polygon fill=\"#000000\" stroke=\"#000000\" points=\"84.0001,-279.2022 80.5,-269.2022 77.0001,-279.2022 84.0001,-279.2022\"/>\n",
       "</g>\n",
       "<!-- [47]: Get csv details -->\n",
       "<g id=\"node5\" class=\"node\">\n",
       "<title>[47]: Get csv details</title>\n",
       "<polygon fill=\"none\" stroke=\"#0000ff\" points=\"161,-196.7889 0,-196.7889 0,-160.7889 161,-160.7889 161,-196.7889\"/>\n",
       "<text text-anchor=\"middle\" x=\"80.5\" y=\"-175.0889\" font-family=\"Times,serif\" font-size=\"14.00\" fill=\"#0000ff\">[47]: Get csv details</text>\n",
       "</g>\n",
       "<!-- pcoll4444&#45;&gt;[47]: Get csv details -->\n",
       "<g id=\"edge4\" class=\"edge\">\n",
       "<title>pcoll4444&#45;&gt;[47]: Get csv details</title>\n",
       "<path fill=\"none\" stroke=\"#000000\" d=\"M80.5,-232.6203C80.5,-224.9199 80.5,-215.7633 80.5,-207.2056\"/>\n",
       "<polygon fill=\"#000000\" stroke=\"#000000\" points=\"84.0001,-207.2022 80.5,-197.2022 77.0001,-207.2022 84.0001,-207.2022\"/>\n",
       "</g>\n",
       "<!-- csv_details -->\n",
       "<g id=\"node6\" class=\"node\">\n",
       "<title>csv_details</title>\n",
       "<ellipse fill=\"none\" stroke=\"#0000ff\" cx=\"80.5\" cy=\"-62.3945\" rx=\"62.2891\" ry=\"62.2891\"/>\n",
       "<text text-anchor=\"middle\" x=\"80.5\" y=\"-58.6945\" font-family=\"Times,serif\" font-size=\"14.00\" fill=\"#0000ff\">csv_details</text>\n",
       "</g>\n",
       "<!-- [47]: Get csv details&#45;&gt;csv_details -->\n",
       "<g id=\"edge5\" class=\"edge\">\n",
       "<title>[47]: Get csv details&#45;&gt;csv_details</title>\n",
       "<path fill=\"none\" stroke=\"#000000\" d=\"M80.5,-160.6023C80.5,-153.2944 80.5,-144.3552 80.5,-134.8772\"/>\n",
       "<polygon fill=\"#000000\" stroke=\"#000000\" points=\"84.0001,-134.8508 80.5,-124.8508 77.0001,-134.8508 84.0001,-134.8508\"/>\n",
       "</g>\n",
       "</g>\n",
       "</svg>\n"
      ],
      "text/plain": [
       "<IPython.core.display.HTML object>"
      ]
     },
     "metadata": {},
     "output_type": "display_data"
    },
    {
     "data": {
      "application/javascript": [
       "\n",
       "        if (typeof window.interactive_beam_jquery == 'undefined') {\n",
       "          var jqueryScript = document.createElement('script');\n",
       "          jqueryScript.src = 'https://code.jquery.com/jquery-3.4.1.slim.min.js';\n",
       "          jqueryScript.type = 'text/javascript';\n",
       "          jqueryScript.onload = function() {\n",
       "            var datatableScript = document.createElement('script');\n",
       "            datatableScript.src = 'https://cdn.datatables.net/1.10.20/js/jquery.dataTables.min.js';\n",
       "            datatableScript.type = 'text/javascript';\n",
       "            datatableScript.onload = function() {\n",
       "              window.interactive_beam_jquery = jQuery.noConflict(true);\n",
       "              window.interactive_beam_jquery(document).ready(function($){\n",
       "                \n",
       "            $(\"#progress_indicator_96cc317484189842a0cf47c7b27f4284\").remove();\n",
       "              });\n",
       "            }\n",
       "            document.head.appendChild(datatableScript);\n",
       "          };\n",
       "          document.head.appendChild(jqueryScript);\n",
       "        } else {\n",
       "          window.interactive_beam_jquery(document).ready(function($){\n",
       "            \n",
       "            $(\"#progress_indicator_96cc317484189842a0cf47c7b27f4284\").remove();\n",
       "          });\n",
       "        }"
      ]
     },
     "metadata": {},
     "output_type": "display_data"
    }
   ],
   "source": [
    "ib.show_graph(p)"
   ]
  },
  {
   "cell_type": "markdown",
   "id": "f572c46a-491e-4836-acd7-af323a5d463b",
   "metadata": {},
   "source": [
    "##### Make sure tar file in './data' folder is un-tarred. That will yield 4 csv files."
   ]
  },
  {
   "cell_type": "code",
   "execution_count": 24,
   "id": "bfb2b8dd-8e8b-4d81-9ec7-f4c05b6c26d6",
   "metadata": {},
   "outputs": [
    {
     "name": "stderr",
     "output_type": "stream",
     "text": [
      "WARNING:root:Make sure that locally built Python SDK docker image has Python 3.7 interpreter.\n",
      "/root/apache-beam-2.33.0/lib/python3.7/site-packages/apache_beam/runners/worker/sdk_worker.py:640: DtypeWarning: Columns (11,12) have mixed types.Specify dtype option on import or set low_memory=False.\n",
      "  bundle_processor.process_bundle(instruction_id))\n",
      "/root/apache-beam-2.33.0/lib/python3.7/site-packages/apache_beam/runners/worker/sdk_worker.py:640: DtypeWarning: Columns (9,10,11,12,13,14,15,16,17,18,19,20,21,22,23,24,25,26,27,28,29,30,31,32,33,34,35,36,37,38,39,40,41,42,43,44,45,46,47,48,49,50) have mixed types.Specify dtype option on import or set low_memory=False.\n",
      "  bundle_processor.process_bundle(instruction_id))\n",
      "/root/apache-beam-2.33.0/lib/python3.7/site-packages/apache_beam/runners/worker/sdk_worker.py:640: DtypeWarning: Columns (11) have mixed types.Specify dtype option on import or set low_memory=False.\n",
      "  bundle_processor.process_bundle(instruction_id))\n"
     ]
    }
   ],
   "source": [
    "start_time = datetime.now()\n",
    "p.run().wait_until_finish()\n",
    "end_time = datetime.now()"
   ]
  },
  {
   "cell_type": "code",
   "execution_count": 25,
   "id": "b0083b5b-95cd-4fb0-ac23-bbec17f7fc5f",
   "metadata": {},
   "outputs": [
    {
     "data": {
      "text/html": [
       "\n",
       "            <link rel=\"stylesheet\" href=\"https://stackpath.bootstrapcdn.com/bootstrap/4.4.1/css/bootstrap.min.css\" integrity=\"sha384-Vkoo8x4CGsO3+Hhxv8T/Q5PaXtkKtu6ug5TOeNV6gBiFeWPGFN9MuhOf23Q9Ifjh\" crossorigin=\"anonymous\">\n",
       "            <div id=\"progress_indicator_cd0e3a3cb73079a90df3eac937f2a81a\" class=\"spinner-border text-info\" role=\"status\">\n",
       "            </div>"
      ],
      "text/plain": [
       "<IPython.core.display.HTML object>"
      ]
     },
     "metadata": {},
     "output_type": "display_data"
    },
    {
     "data": {
      "text/html": [
       "\n",
       "            <style>\n",
       "            .p-Widget.jp-OutputPrompt.jp-OutputArea-prompt:empty {\n",
       "              padding: 0;\n",
       "              border: 0;\n",
       "            }\n",
       "            .p-Widget.jp-RenderedJavaScript.jp-mod-trusted.jp-OutputArea-output:empty {\n",
       "              padding: 0;\n",
       "              border: 0;\n",
       "            }\n",
       "            </style>\n",
       "            <link rel=\"stylesheet\" href=\"https://cdn.datatables.net/1.10.20/css/jquery.dataTables.min.css\">\n",
       "            <table id=\"table_df_d783b9a120db2db3565505c46c9d2d53\" class=\"display\" style=\"display:block\"></table>\n",
       "            <script>\n",
       "              \n",
       "        if (typeof window.interactive_beam_jquery == 'undefined') {\n",
       "          var jqueryScript = document.createElement('script');\n",
       "          jqueryScript.src = 'https://code.jquery.com/jquery-3.4.1.slim.min.js';\n",
       "          jqueryScript.type = 'text/javascript';\n",
       "          jqueryScript.onload = function() {\n",
       "            var datatableScript = document.createElement('script');\n",
       "            datatableScript.src = 'https://cdn.datatables.net/1.10.20/js/jquery.dataTables.min.js';\n",
       "            datatableScript.type = 'text/javascript';\n",
       "            datatableScript.onload = function() {\n",
       "              window.interactive_beam_jquery = jQuery.noConflict(true);\n",
       "              window.interactive_beam_jquery(document).ready(function($){\n",
       "                \n",
       "            var dt;\n",
       "            if ($.fn.dataTable.isDataTable(\"#table_df_d783b9a120db2db3565505c46c9d2d53\")) {\n",
       "              dt = $(\"#table_df_d783b9a120db2db3565505c46c9d2d53\").dataTable();\n",
       "            } else if ($(\"#table_df_d783b9a120db2db3565505c46c9d2d53_wrapper\").length == 0) {\n",
       "              dt = $(\"#table_df_d783b9a120db2db3565505c46c9d2d53\").dataTable({\n",
       "                \n",
       "            bAutoWidth: false,\n",
       "            columns: [{'title': ''}, {'title': 'df_num'}, {'title': 'columns'}, {'title': 'shape'}],\n",
       "            destroy: true,\n",
       "            responsive: true,\n",
       "            columnDefs: [\n",
       "              {\n",
       "                targets: \"_all\",\n",
       "                className: \"dt-left\"\n",
       "              },\n",
       "              {\n",
       "                \"targets\": 0,\n",
       "                \"width\": \"10px\",\n",
       "                \"title\": \"\"\n",
       "              }\n",
       "            ]\n",
       "              });\n",
       "            } else {\n",
       "              return;\n",
       "            }\n",
       "            dt.api()\n",
       "              .clear()\n",
       "              .rows.add([{1: '1', 2: \"['Series_reference', 'Period', 'Data_value', 'STATUS', 'UNITS', 'MAGNTUDE', 'Subject', 'Group', 'Series_title_1', 'Series_title_2', 'Series_title_3', 'Series_title_4', 'Series_title_5']\", 3: '(1118488, 13)', 0: 0}, {1: '2', 2: \"['Series_reference', 'Period', 'Data_value', 'STATUS', 'UNITS', 'MAGNTUDE', 'Subject', 'Group', 'Series_title_1', 'Series_title_2', 'Series_title_3', 'Series_title_4', 'Series_title_5']\", 3: '(25468, 13)', 0: 1}, {1: '3', 2: \"['STATUS', 'SER_NBR', 'Series_reference', 'Period', 'Data_value', 'UNITS', 'MAGNTUDE', 'Subject', 'Group', 'Age Group 3 brackets', 'Age Group', 'Age Group 6 brackets', 'Duration of unemployment', 'Employed and Unemployed Persons, Full-Time and Part-Time Status', 'Employment relationship', 'Employment status', 'Ethnic Single / Combination', 'Ethnic Total Response', 'Formal study status', 'Highest qualification', 'Hours Worked', 'Household Composition', 'Household Labour Force Status', 'Industry ANZSIC06', 'Industry ANZSIC06 Supplementary', 'Job', 'Job tenure', 'Labour force and education status', 'Labour Force Status', 'Main activity', 'Main job', 'Methods of seeking employment', 'Occupation ANZSCO Level 1', 'Percentage change from previous period and same period previous year', 'Persons Employed, Unemployed, Not in Labour Force (for current quarter)', 'Reason for leaving last job', 'Reason not seeking work', 'Reason not wanting work', 'Reasons not available for work', 'Regional Council', 'Sampling Errors', 'Seasonally Adjusted/Trend Series', 'Second job', 'Sex', 'Total Number of Actual Hours Worked Each Week', 'Total Number of Usual Hours Worked Each Week', 'Type of employment agreement', 'Underemployment', 'Underutilisation', 'Union membership', 'Youth age groups']\", 3: '(918761, 51)', 0: 2}, {1: '4', 2: \"['Series_reference', 'Period', 'Data_value', 'STATUS', 'UNITS', 'MAGNTUDE', 'Subject', 'Group', 'Series_title_1', 'Series_title_2', 'Series_title_3', 'Series_title_4', 'Series_title_5']\", 3: '(174259, 13)', 0: 3}])\n",
       "              .draw('full-hold');\n",
       "              });\n",
       "            }\n",
       "            document.head.appendChild(datatableScript);\n",
       "          };\n",
       "          document.head.appendChild(jqueryScript);\n",
       "        } else {\n",
       "          window.interactive_beam_jquery(document).ready(function($){\n",
       "            \n",
       "            var dt;\n",
       "            if ($.fn.dataTable.isDataTable(\"#table_df_d783b9a120db2db3565505c46c9d2d53\")) {\n",
       "              dt = $(\"#table_df_d783b9a120db2db3565505c46c9d2d53\").dataTable();\n",
       "            } else if ($(\"#table_df_d783b9a120db2db3565505c46c9d2d53_wrapper\").length == 0) {\n",
       "              dt = $(\"#table_df_d783b9a120db2db3565505c46c9d2d53\").dataTable({\n",
       "                \n",
       "            bAutoWidth: false,\n",
       "            columns: [{'title': ''}, {'title': 'df_num'}, {'title': 'columns'}, {'title': 'shape'}],\n",
       "            destroy: true,\n",
       "            responsive: true,\n",
       "            columnDefs: [\n",
       "              {\n",
       "                targets: \"_all\",\n",
       "                className: \"dt-left\"\n",
       "              },\n",
       "              {\n",
       "                \"targets\": 0,\n",
       "                \"width\": \"10px\",\n",
       "                \"title\": \"\"\n",
       "              }\n",
       "            ]\n",
       "              });\n",
       "            } else {\n",
       "              return;\n",
       "            }\n",
       "            dt.api()\n",
       "              .clear()\n",
       "              .rows.add([{1: '1', 2: \"['Series_reference', 'Period', 'Data_value', 'STATUS', 'UNITS', 'MAGNTUDE', 'Subject', 'Group', 'Series_title_1', 'Series_title_2', 'Series_title_3', 'Series_title_4', 'Series_title_5']\", 3: '(1118488, 13)', 0: 0}, {1: '2', 2: \"['Series_reference', 'Period', 'Data_value', 'STATUS', 'UNITS', 'MAGNTUDE', 'Subject', 'Group', 'Series_title_1', 'Series_title_2', 'Series_title_3', 'Series_title_4', 'Series_title_5']\", 3: '(25468, 13)', 0: 1}, {1: '3', 2: \"['STATUS', 'SER_NBR', 'Series_reference', 'Period', 'Data_value', 'UNITS', 'MAGNTUDE', 'Subject', 'Group', 'Age Group 3 brackets', 'Age Group', 'Age Group 6 brackets', 'Duration of unemployment', 'Employed and Unemployed Persons, Full-Time and Part-Time Status', 'Employment relationship', 'Employment status', 'Ethnic Single / Combination', 'Ethnic Total Response', 'Formal study status', 'Highest qualification', 'Hours Worked', 'Household Composition', 'Household Labour Force Status', 'Industry ANZSIC06', 'Industry ANZSIC06 Supplementary', 'Job', 'Job tenure', 'Labour force and education status', 'Labour Force Status', 'Main activity', 'Main job', 'Methods of seeking employment', 'Occupation ANZSCO Level 1', 'Percentage change from previous period and same period previous year', 'Persons Employed, Unemployed, Not in Labour Force (for current quarter)', 'Reason for leaving last job', 'Reason not seeking work', 'Reason not wanting work', 'Reasons not available for work', 'Regional Council', 'Sampling Errors', 'Seasonally Adjusted/Trend Series', 'Second job', 'Sex', 'Total Number of Actual Hours Worked Each Week', 'Total Number of Usual Hours Worked Each Week', 'Type of employment agreement', 'Underemployment', 'Underutilisation', 'Union membership', 'Youth age groups']\", 3: '(918761, 51)', 0: 2}, {1: '4', 2: \"['Series_reference', 'Period', 'Data_value', 'STATUS', 'UNITS', 'MAGNTUDE', 'Subject', 'Group', 'Series_title_1', 'Series_title_2', 'Series_title_3', 'Series_title_4', 'Series_title_5']\", 3: '(174259, 13)', 0: 3}])\n",
       "              .draw('full-hold');\n",
       "          });\n",
       "        }\n",
       "            </script>"
      ],
      "text/plain": [
       "<IPython.core.display.HTML object>"
      ]
     },
     "metadata": {},
     "output_type": "display_data"
    },
    {
     "data": {
      "application/javascript": [
       "\n",
       "        if (typeof window.interactive_beam_jquery == 'undefined') {\n",
       "          var jqueryScript = document.createElement('script');\n",
       "          jqueryScript.src = 'https://code.jquery.com/jquery-3.4.1.slim.min.js';\n",
       "          jqueryScript.type = 'text/javascript';\n",
       "          jqueryScript.onload = function() {\n",
       "            var datatableScript = document.createElement('script');\n",
       "            datatableScript.src = 'https://cdn.datatables.net/1.10.20/js/jquery.dataTables.min.js';\n",
       "            datatableScript.type = 'text/javascript';\n",
       "            datatableScript.onload = function() {\n",
       "              window.interactive_beam_jquery = jQuery.noConflict(true);\n",
       "              window.interactive_beam_jquery(document).ready(function($){\n",
       "                \n",
       "            $(\"#progress_indicator_cd0e3a3cb73079a90df3eac937f2a81a\").remove();\n",
       "              });\n",
       "            }\n",
       "            document.head.appendChild(datatableScript);\n",
       "          };\n",
       "          document.head.appendChild(jqueryScript);\n",
       "        } else {\n",
       "          window.interactive_beam_jquery(document).ready(function($){\n",
       "            \n",
       "            $(\"#progress_indicator_cd0e3a3cb73079a90df3eac937f2a81a\").remove();\n",
       "          });\n",
       "        }"
      ]
     },
     "metadata": {},
     "output_type": "display_data"
    }
   ],
   "source": [
    "ib.show(csv_details)"
   ]
  },
  {
   "cell_type": "markdown",
   "id": "cc3a6572-fb19-47f0-a2a2-19d8dec39418",
   "metadata": {},
   "source": [
    "### Time taken when using pipeline"
   ]
  },
  {
   "cell_type": "code",
   "execution_count": 19,
   "id": "2521bc6c-2e0c-4e14-897e-f2deae6eae57",
   "metadata": {},
   "outputs": [
    {
     "name": "stdout",
     "output_type": "stream",
     "text": [
      "Time taken: 13.906486 Seconds\n"
     ]
    }
   ],
   "source": [
    "print(f\"Time taken: {(end_time - start_time).total_seconds()} Seconds\")"
   ]
  },
  {
   "cell_type": "code",
   "execution_count": null,
   "id": "bab7c190-5adc-4aba-ae93-3405ea3713d1",
   "metadata": {},
   "outputs": [],
   "source": []
  },
  {
   "cell_type": "code",
   "execution_count": 8,
   "id": "35d8a4ee-e673-48ef-a5e8-57c78c592c51",
   "metadata": {},
   "outputs": [
    {
     "name": "stderr",
     "output_type": "stream",
     "text": [
      "/root/apache-beam-2.33.0/lib/python3.7/site-packages/IPython/core/interactiveshell.py:3173: DtypeWarning: Columns (11,12) have mixed types.Specify dtype option on import or set low_memory=False.\n",
      "  interactivity=interactivity, compiler=compiler, result=result)\n"
     ]
    },
    {
     "name": "stdout",
     "output_type": "stream",
     "text": [
      "\n",
      "Dataframe: 5\n",
      "columns:  ['Series_reference', 'Period', 'Data_value', 'STATUS', 'UNITS', 'MAGNTUDE', 'Subject', 'Group', 'Series_title_1', 'Series_title_2', 'Series_title_3', 'Series_title_4', 'Series_title_5']\n",
      "Shape:  (1118488, 13)\n",
      "\n",
      "\n",
      "Dataframe: 6\n",
      "columns:  ['Series_reference', 'Period', 'Data_value', 'STATUS', 'UNITS', 'MAGNTUDE', 'Subject', 'Group', 'Series_title_1', 'Series_title_2', 'Series_title_3', 'Series_title_4', 'Series_title_5']\n",
      "Shape:  (25468, 13)\n",
      "\n"
     ]
    },
    {
     "name": "stderr",
     "output_type": "stream",
     "text": [
      "/root/apache-beam-2.33.0/lib/python3.7/site-packages/IPython/core/interactiveshell.py:3173: DtypeWarning: Columns (9,10,11,12,13,14,15,16,17,18,19,20,21,22,23,24,25,26,27,28,29,30,31,32,33,34,35,36,37,38,39,40,41,42,43,44,45,46,47,48,49,50) have mixed types.Specify dtype option on import or set low_memory=False.\n",
      "  interactivity=interactivity, compiler=compiler, result=result)\n"
     ]
    },
    {
     "name": "stdout",
     "output_type": "stream",
     "text": [
      "\n",
      "Dataframe: 7\n",
      "columns:  ['STATUS', 'SER_NBR', 'Series_reference', 'Period', 'Data_value', 'UNITS', 'MAGNTUDE', 'Subject', 'Group', 'Age Group 3 brackets', 'Age Group', 'Age Group 6 brackets', 'Duration of unemployment', 'Employed and Unemployed Persons, Full-Time and Part-Time Status', 'Employment relationship', 'Employment status', 'Ethnic Single / Combination', 'Ethnic Total Response', 'Formal study status', 'Highest qualification', 'Hours Worked', 'Household Composition', 'Household Labour Force Status', 'Industry ANZSIC06', 'Industry ANZSIC06 Supplementary', 'Job', 'Job tenure', 'Labour force and education status', 'Labour Force Status', 'Main activity', 'Main job', 'Methods of seeking employment', 'Occupation ANZSCO Level 1', 'Percentage change from previous period and same period previous year', 'Persons Employed, Unemployed, Not in Labour Force (for current quarter)', 'Reason for leaving last job', 'Reason not seeking work', 'Reason not wanting work', 'Reasons not available for work', 'Regional Council', 'Sampling Errors', 'Seasonally Adjusted/Trend Series', 'Second job', 'Sex', 'Total Number of Actual Hours Worked Each Week', 'Total Number of Usual Hours Worked Each Week', 'Type of employment agreement', 'Underemployment', 'Underutilisation', 'Union membership', 'Youth age groups']\n",
      "Shape:  (918761, 51)\n",
      "\n"
     ]
    },
    {
     "name": "stderr",
     "output_type": "stream",
     "text": [
      "/root/apache-beam-2.33.0/lib/python3.7/site-packages/IPython/core/interactiveshell.py:3173: DtypeWarning: Columns (11) have mixed types.Specify dtype option on import or set low_memory=False.\n",
      "  interactivity=interactivity, compiler=compiler, result=result)\n"
     ]
    },
    {
     "name": "stdout",
     "output_type": "stream",
     "text": [
      "\n",
      "Dataframe: 8\n",
      "columns:  ['Series_reference', 'Period', 'Data_value', 'STATUS', 'UNITS', 'MAGNTUDE', 'Subject', 'Group', 'Series_title_1', 'Series_title_2', 'Series_title_3', 'Series_title_4', 'Series_title_5']\n",
      "Shape:  (174259, 13)\n",
      "\n"
     ]
    }
   ],
   "source": [
    "start_time = datetime.now()\n",
    "for csv_file in glob.glob('./data/*.csv'):\n",
    "    df = pd.read_csv(csv_file)\n",
    "    print_info(df)\n",
    "end_time = datetime.now()"
   ]
  },
  {
   "cell_type": "markdown",
   "id": "ad6874cf-85ce-4794-a2ac-256897fa0d4a",
   "metadata": {
    "tags": []
   },
   "source": [
    "### Time taken when using python directly"
   ]
  },
  {
   "cell_type": "code",
   "execution_count": 9,
   "id": "4567f8e0-47ef-42db-ba49-a1a5c4c38bdb",
   "metadata": {},
   "outputs": [
    {
     "name": "stdout",
     "output_type": "stream",
     "text": [
      "Time taken: 12.626352 Seconds\n"
     ]
    }
   ],
   "source": [
    "print(f\"Time taken: {(end_time - start_time).total_seconds()} Seconds\")"
   ]
  },
  {
   "cell_type": "markdown",
   "id": "eb1b2ff3-25ff-4c7a-aeb4-36bef37fee6e",
   "metadata": {},
   "source": [
    "##### Python looks slightly faster here. But when the same job is submitted to cloud dataflow, The process will run faster since it uses parallel computing in distributed systems and also it's scalable. "
   ]
  },
  {
   "cell_type": "markdown",
   "id": "5007f95c-3504-4178-8b37-0ced17ac2b11",
   "metadata": {},
   "source": [
    " "
   ]
  },
  {
   "cell_type": "markdown",
   "id": "a95befcc-a923-4b2b-9adb-0c6814b03104",
   "metadata": {},
   "source": [
    "## Run Pipeline as a dataflow job"
   ]
  },
  {
   "cell_type": "code",
   "execution_count": 37,
   "id": "8846f51b-2c79-4865-b1db-8c907fd5f4f1",
   "metadata": {},
   "outputs": [],
   "source": [
    "# Setting up the Apache Beam pipeline options.\n",
    "options = pipeline_options.PipelineOptions(flags=[])\n",
    "\n",
    "# Sets the project to the default project in your current Google Cloud environment.\n",
    "_, options.view_as(GoogleCloudOptions).project = google.auth.default()\n",
    "\n",
    "# Sets the Google Cloud Region in which Cloud Dataflow runs.\n",
    "options.view_as(GoogleCloudOptions).region = 'us-central1'"
   ]
  },
  {
   "cell_type": "code",
   "execution_count": 38,
   "id": "21024ddb-4c4d-41db-997d-378ab3ba8f8d",
   "metadata": {},
   "outputs": [],
   "source": [
    "dataflow_gcs_location = 'gs://text-analysis-323506/dataflow_csv_reader'"
   ]
  },
  {
   "cell_type": "code",
   "execution_count": 39,
   "id": "9bb67a8b-6914-42e5-9ed8-9f15ba225a82",
   "metadata": {},
   "outputs": [],
   "source": [
    "# Dataflow Staging Location. This location is used to stage the Dataflow Pipeline and SDK binary.\n",
    "options.view_as(GoogleCloudOptions).staging_location = '%s/staging' % dataflow_gcs_location\n",
    "\n",
    "# Dataflow Temp Location. This location is used to store temporary files or intermediate results before finally outputting to the sink.\n",
    "options.view_as(GoogleCloudOptions).temp_location = '%s/temp' % dataflow_gcs_location"
   ]
  },
  {
   "cell_type": "code",
   "execution_count": 40,
   "id": "1148f1bf-aa90-4156-a6f5-ece2ef0b0e91",
   "metadata": {},
   "outputs": [],
   "source": [
    "# The directory to store the output files of the job.\n",
    "output_gcs_location = '%s/output' % dataflow_gcs_location"
   ]
  },
  {
   "cell_type": "code",
   "execution_count": 41,
   "id": "84f11688-18ab-4c1b-9080-c1ac0cb16f85",
   "metadata": {},
   "outputs": [
    {
     "data": {
      "text/plain": [
       "<PCollection[[41]: Write csv details to Cloud Storage/Write/WriteImpl/FinalizeWrite.None] at 0x7f8f09144b50>"
      ]
     },
     "execution_count": 41,
     "metadata": {},
     "output_type": "execute_result"
    }
   ],
   "source": [
    "# Specifying the Cloud Storage location to write `csvc_details` to,\n",
    "# based on the `output_gcs_location` variable set earlier.\n",
    "# (csv_details | 'Write csv details to Cloud Storage' \n",
    "#  >> beam.io.WriteToText(output_gcs_location + '/csv_details-output.txt'))"
   ]
  },
  {
   "cell_type": "code",
   "execution_count": 42,
   "id": "81accd48-57d7-4034-b194-a7b3f1542acc",
   "metadata": {},
   "outputs": [
    {
     "data": {
      "text/html": [
       "\n",
       "            <link rel=\"stylesheet\" href=\"https://stackpath.bootstrapcdn.com/bootstrap/4.4.1/css/bootstrap.min.css\" integrity=\"sha384-Vkoo8x4CGsO3+Hhxv8T/Q5PaXtkKtu6ug5TOeNV6gBiFeWPGFN9MuhOf23Q9Ifjh\" crossorigin=\"anonymous\">\n",
       "            <div id=\"progress_indicator_cd5d571efd6f105671ac74c68fa88cb6\" class=\"spinner-border text-info\" role=\"status\">\n",
       "            </div>"
      ],
      "text/plain": [
       "<IPython.core.display.HTML object>"
      ]
     },
     "metadata": {},
     "output_type": "display_data"
    },
    {
     "data": {
      "text/html": [
       "<?xml version=\"1.0\" encoding=\"UTF-8\" standalone=\"no\"?>\n",
       "<!DOCTYPE svg PUBLIC \"-//W3C//DTD SVG 1.1//EN\"\n",
       " \"http://www.w3.org/Graphics/SVG/1.1/DTD/svg11.dtd\">\n",
       "<!-- Generated by graphviz version 2.40.1 (20161225.0304)\n",
       " -->\n",
       "<!-- Title: G Pages: 1 -->\n",
       "<svg width=\"309pt\" height=\"655pt\"\n",
       " viewBox=\"0.00 0.00 309.00 655.38\" xmlns=\"http://www.w3.org/2000/svg\" xmlns:xlink=\"http://www.w3.org/1999/xlink\">\n",
       "<g id=\"graph0\" class=\"graph\" transform=\"scale(1 1) rotate(0) translate(4 651.3841)\">\n",
       "<title>G</title>\n",
       "<polygon fill=\"#ffffff\" stroke=\"transparent\" points=\"-4,4 -4,-651.3841 305,-651.3841 305,4 -4,4\"/>\n",
       "<!-- [35]: List csv files -->\n",
       "<g id=\"node1\" class=\"node\">\n",
       "<title>[35]: List csv files</title>\n",
       "<polygon fill=\"none\" stroke=\"#0000ff\" points=\"223,-647.3841 78,-647.3841 78,-611.3841 223,-611.3841 223,-647.3841\"/>\n",
       "<text text-anchor=\"middle\" x=\"150.5\" y=\"-625.6841\" font-family=\"Times,serif\" font-size=\"14.00\" fill=\"#0000ff\">[35]: List csv files</text>\n",
       "</g>\n",
       "<!-- pcoll566 -->\n",
       "<g id=\"node2\" class=\"node\">\n",
       "<title>pcoll566</title>\n",
       "<ellipse fill=\"none\" stroke=\"#0000ff\" cx=\"150.5\" cy=\"-557.3841\" rx=\"18\" ry=\"18\"/>\n",
       "</g>\n",
       "<!-- [35]: List csv files&#45;&gt;pcoll566 -->\n",
       "<g id=\"edge1\" class=\"edge\">\n",
       "<title>[35]: List csv files&#45;&gt;pcoll566</title>\n",
       "<path fill=\"none\" stroke=\"#000000\" d=\"M150.5,-611.2154C150.5,-603.515 150.5,-594.3584 150.5,-585.8007\"/>\n",
       "<polygon fill=\"#000000\" stroke=\"#000000\" points=\"154.0001,-585.7973 150.5,-575.7973 147.0001,-585.7974 154.0001,-585.7973\"/>\n",
       "</g>\n",
       "<!-- [35]: Read csv files -->\n",
       "<g id=\"node3\" class=\"node\">\n",
       "<title>[35]: Read csv files</title>\n",
       "<polygon fill=\"none\" stroke=\"#0000ff\" points=\"227,-503.3841 74,-503.3841 74,-467.3841 227,-467.3841 227,-503.3841\"/>\n",
       "<text text-anchor=\"middle\" x=\"150.5\" y=\"-481.6841\" font-family=\"Times,serif\" font-size=\"14.00\" fill=\"#0000ff\">[35]: Read csv files</text>\n",
       "</g>\n",
       "<!-- pcoll566&#45;&gt;[35]: Read csv files -->\n",
       "<g id=\"edge2\" class=\"edge\">\n",
       "<title>pcoll566&#45;&gt;[35]: Read csv files</title>\n",
       "<path fill=\"none\" stroke=\"#000000\" d=\"M150.5,-539.2154C150.5,-531.515 150.5,-522.3584 150.5,-513.8007\"/>\n",
       "<polygon fill=\"#000000\" stroke=\"#000000\" points=\"154.0001,-513.7973 150.5,-503.7973 147.0001,-513.7974 154.0001,-513.7973\"/>\n",
       "</g>\n",
       "<!-- pcoll4444 -->\n",
       "<g id=\"node4\" class=\"node\">\n",
       "<title>pcoll4444</title>\n",
       "<ellipse fill=\"none\" stroke=\"#0000ff\" cx=\"150.5\" cy=\"-413.3841\" rx=\"18\" ry=\"18\"/>\n",
       "</g>\n",
       "<!-- [35]: Read csv files&#45;&gt;pcoll4444 -->\n",
       "<g id=\"edge3\" class=\"edge\">\n",
       "<title>[35]: Read csv files&#45;&gt;pcoll4444</title>\n",
       "<path fill=\"none\" stroke=\"#000000\" d=\"M150.5,-467.2154C150.5,-459.515 150.5,-450.3584 150.5,-441.8007\"/>\n",
       "<polygon fill=\"#000000\" stroke=\"#000000\" points=\"154.0001,-441.7973 150.5,-431.7973 147.0001,-441.7974 154.0001,-441.7973\"/>\n",
       "</g>\n",
       "<!-- [35]: Get csv details -->\n",
       "<g id=\"node5\" class=\"node\">\n",
       "<title>[35]: Get csv details</title>\n",
       "<polygon fill=\"none\" stroke=\"#0000ff\" points=\"231,-359.3841 70,-359.3841 70,-323.3841 231,-323.3841 231,-359.3841\"/>\n",
       "<text text-anchor=\"middle\" x=\"150.5\" y=\"-337.6841\" font-family=\"Times,serif\" font-size=\"14.00\" fill=\"#0000ff\">[35]: Get csv details</text>\n",
       "</g>\n",
       "<!-- pcoll4444&#45;&gt;[35]: Get csv details -->\n",
       "<g id=\"edge4\" class=\"edge\">\n",
       "<title>pcoll4444&#45;&gt;[35]: Get csv details</title>\n",
       "<path fill=\"none\" stroke=\"#000000\" d=\"M150.5,-395.2154C150.5,-387.515 150.5,-378.3584 150.5,-369.8007\"/>\n",
       "<polygon fill=\"#000000\" stroke=\"#000000\" points=\"154.0001,-369.7973 150.5,-359.7973 147.0001,-369.7974 154.0001,-369.7973\"/>\n",
       "</g>\n",
       "<!-- csv_details -->\n",
       "<g id=\"node6\" class=\"node\">\n",
       "<title>csv_details</title>\n",
       "<ellipse fill=\"none\" stroke=\"#0000ff\" cx=\"150.5\" cy=\"-224.9896\" rx=\"62.2891\" ry=\"62.2891\"/>\n",
       "<text text-anchor=\"middle\" x=\"150.5\" y=\"-221.2896\" font-family=\"Times,serif\" font-size=\"14.00\" fill=\"#0000ff\">csv_details</text>\n",
       "</g>\n",
       "<!-- [35]: Get csv details&#45;&gt;csv_details -->\n",
       "<g id=\"edge5\" class=\"edge\">\n",
       "<title>[35]: Get csv details&#45;&gt;csv_details</title>\n",
       "<path fill=\"none\" stroke=\"#000000\" d=\"M150.5,-323.1974C150.5,-315.8896 150.5,-306.9504 150.5,-297.4723\"/>\n",
       "<polygon fill=\"#000000\" stroke=\"#000000\" points=\"154.0001,-297.4459 150.5,-287.446 147.0001,-297.446 154.0001,-297.4459\"/>\n",
       "</g>\n",
       "<!-- [41]: Write csv details to Cloud Storage -->\n",
       "<g id=\"node7\" class=\"node\">\n",
       "<title>[41]: Write csv details to Cloud Storage</title>\n",
       "<polygon fill=\"none\" stroke=\"#0000ff\" points=\"301,-126.5952 0,-126.5952 0,-90.5952 301,-90.5952 301,-126.5952\"/>\n",
       "<text text-anchor=\"middle\" x=\"150.5\" y=\"-104.8952\" font-family=\"Times,serif\" font-size=\"14.00\" fill=\"#0000ff\">[41]: Write csv details to Cloud Storage</text>\n",
       "</g>\n",
       "<!-- csv_details&#45;&gt;[41]: Write csv details to Cloud Storage -->\n",
       "<g id=\"edge6\" class=\"edge\">\n",
       "<title>csv_details&#45;&gt;[41]: Write csv details to Cloud Storage</title>\n",
       "<path fill=\"none\" stroke=\"#000000\" d=\"M150.5,-162.3632C150.5,-153.5858 150.5,-144.9435 150.5,-137.2412\"/>\n",
       "<polygon fill=\"#000000\" stroke=\"#000000\" points=\"154.0001,-137.0623 150.5,-127.0623 147.0001,-137.0623 154.0001,-137.0623\"/>\n",
       "</g>\n",
       "<!-- _41 -->\n",
       "<g id=\"node8\" class=\"node\">\n",
       "<title>_41</title>\n",
       "<ellipse fill=\"none\" stroke=\"#0000ff\" cx=\"150.5\" cy=\"-27.2976\" rx=\"27.0966\" ry=\"27.0966\"/>\n",
       "<text text-anchor=\"middle\" x=\"150.5\" y=\"-23.5976\" font-family=\"Times,serif\" font-size=\"14.00\" fill=\"#0000ff\">_41</text>\n",
       "</g>\n",
       "<!-- [41]: Write csv details to Cloud Storage&#45;&gt;_41 -->\n",
       "<g id=\"edge7\" class=\"edge\">\n",
       "<title>[41]: Write csv details to Cloud Storage&#45;&gt;_41</title>\n",
       "<path fill=\"none\" stroke=\"#000000\" d=\"M150.5,-90.5526C150.5,-83.0211 150.5,-73.9716 150.5,-65.1033\"/>\n",
       "<polygon fill=\"#000000\" stroke=\"#000000\" points=\"154.0001,-64.8779 150.5,-54.8779 147.0001,-64.878 154.0001,-64.8779\"/>\n",
       "</g>\n",
       "</g>\n",
       "</svg>\n"
      ],
      "text/plain": [
       "<IPython.core.display.HTML object>"
      ]
     },
     "metadata": {},
     "output_type": "display_data"
    },
    {
     "data": {
      "application/javascript": [
       "\n",
       "        if (typeof window.interactive_beam_jquery == 'undefined') {\n",
       "          var jqueryScript = document.createElement('script');\n",
       "          jqueryScript.src = 'https://code.jquery.com/jquery-3.4.1.slim.min.js';\n",
       "          jqueryScript.type = 'text/javascript';\n",
       "          jqueryScript.onload = function() {\n",
       "            var datatableScript = document.createElement('script');\n",
       "            datatableScript.src = 'https://cdn.datatables.net/1.10.20/js/jquery.dataTables.min.js';\n",
       "            datatableScript.type = 'text/javascript';\n",
       "            datatableScript.onload = function() {\n",
       "              window.interactive_beam_jquery = jQuery.noConflict(true);\n",
       "              window.interactive_beam_jquery(document).ready(function($){\n",
       "                \n",
       "            $(\"#progress_indicator_cd5d571efd6f105671ac74c68fa88cb6\").remove();\n",
       "              });\n",
       "            }\n",
       "            document.head.appendChild(datatableScript);\n",
       "          };\n",
       "          document.head.appendChild(jqueryScript);\n",
       "        } else {\n",
       "          window.interactive_beam_jquery(document).ready(function($){\n",
       "            \n",
       "            $(\"#progress_indicator_cd5d571efd6f105671ac74c68fa88cb6\").remove();\n",
       "          });\n",
       "        }"
      ]
     },
     "metadata": {},
     "output_type": "display_data"
    }
   ],
   "source": [
    "ib.show_graph(p)"
   ]
  },
  {
   "cell_type": "code",
   "execution_count": 49,
   "id": "25201b66-449d-4a89-9652-91d32c8b1654",
   "metadata": {},
   "outputs": [
    {
     "name": "stderr",
     "output_type": "stream",
     "text": [
      "WARNING:root:Make sure that locally built Python SDK docker image has Python 3.7 interpreter.\n"
     ]
    }
   ],
   "source": [
    "# Submit job\n",
    "# Important: Enable dataflow api if not enabled in google cloud platform console\n",
    "pipeline_result = DataflowRunner().run_pipeline(p, options=options)"
   ]
  },
  {
   "cell_type": "code",
   "execution_count": null,
   "id": "951173b7-754a-4b6f-b13a-852f4bf03bf2",
   "metadata": {},
   "outputs": [],
   "source": []
  }
 ],
 "metadata": {
  "kernelspec": {
   "display_name": "1. Apache Beam 2.33.0 for Python 3",
   "language": "python",
   "name": "1-apache-beam-2.33.0"
  },
  "language_info": {
   "codemirror_mode": {
    "name": "ipython",
    "version": 3
   },
   "file_extension": ".py",
   "mimetype": "text/x-python",
   "name": "python",
   "nbconvert_exporter": "python",
   "pygments_lexer": "ipython3",
   "version": "3.7.10"
  }
 },
 "nbformat": 4,
 "nbformat_minor": 5
}
