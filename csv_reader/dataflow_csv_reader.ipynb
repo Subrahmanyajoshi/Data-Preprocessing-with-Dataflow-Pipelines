{
 "cells": [
  {
   "cell_type": "code",
   "execution_count": 83,
   "id": "4ca772d1-1b6b-4f59-a65d-cbebbb363659",
   "metadata": {},
   "outputs": [],
   "source": [
    "import apache_beam as beam\n",
    "import glob\n",
    "import os\n",
    "import sys\n",
    "\n",
    "from google.cloud import bigquery\n",
    "\n",
    "import google.auth\n",
    "\n",
    "from datetime import datetime\n",
    "\n",
    "from apache_beam.options import pipeline_options\n",
    "from apache_beam.options.pipeline_options import GoogleCloudOptions\n",
    "from apache_beam.runners import DataflowRunner\n",
    "\n",
    "import apache_beam.runners.interactive.interactive_beam as ib\n",
    "from apache_beam.runners.interactive.interactive_runner import InteractiveRunner"
   ]
  },
  {
   "cell_type": "markdown",
   "id": "e6d89ca9-5d4c-4e9c-9d0b-e599afb4a6c5",
   "metadata": {},
   "source": [
    "To access data in our csv files, it needs to be put on a bigquery table first."
   ]
  },
  {
   "cell_type": "markdown",
   "id": "67e95e02-e9d2-491d-ac00-c2fe5c82d058",
   "metadata": {},
   "source": [
    "## Pushing data in csv files to a bigquery table  "
   ]
  },
  {
   "cell_type": "code",
   "execution_count": 53,
   "id": "cd4a0dce-969a-445d-a30f-be13bc933994",
   "metadata": {},
   "outputs": [],
   "source": [
    "bq_client = bigquery.Client()"
   ]
  },
  {
   "cell_type": "markdown",
   "id": "151b8eb7-bf86-447c-9ad2-89424244246e",
   "metadata": {},
   "source": [
    "### Create Dataset"
   ]
  },
  {
   "cell_type": "code",
   "execution_count": 16,
   "id": "2f2e8359-e7c5-4d6f-9b8f-35b0b11f9844",
   "metadata": {},
   "outputs": [],
   "source": [
    "dataset = bigquery.Dataset('text-analysis-323506.dataflow_dataset')"
   ]
  },
  {
   "cell_type": "code",
   "execution_count": 17,
   "id": "e8c834f3-4cbd-4099-85ab-01053013beae",
   "metadata": {},
   "outputs": [],
   "source": [
    "dataset.location = \"us-east1\""
   ]
  },
  {
   "cell_type": "code",
   "execution_count": 18,
   "id": "985029d9-7919-4230-8e03-f6ff59471d52",
   "metadata": {},
   "outputs": [],
   "source": [
    "dataset = bq_client.create_dataset(dataset, timeout=30)"
   ]
  },
  {
   "cell_type": "markdown",
   "id": "69088c6d-b4c4-4103-af0a-f5c42536a6a1",
   "metadata": {},
   "source": [
    "### Create Table "
   ]
  },
  {
   "cell_type": "code",
   "execution_count": 19,
   "id": "6090a6fc-450d-4cb4-9d57-2751cf4ab3d4",
   "metadata": {},
   "outputs": [],
   "source": [
    "schema = [\n",
    "        bigquery.SchemaField(\"Series_reference\", \"STRING\", mode=\"NULLABLE\"),\n",
    "        bigquery.SchemaField(\"Period\", \"FLOAT\", mode=\"NULLABLE\"),\n",
    "        bigquery.SchemaField(\"Data_value\", \"FLOAT\", mode=\"NULLABLE\"),\n",
    "        bigquery.SchemaField(\"STATUS\", \"STRING\", mode=\"NULLABLE\"),\n",
    "        bigquery.SchemaField(\"UNITS\", \"STRING\", mode=\"NULLABLE\"),\n",
    "        bigquery.SchemaField(\"MAGNTUDE\", \"INTEGER\", mode=\"NULLABLE\"),\n",
    "        bigquery.SchemaField(\"Subject\", \"STRING\", mode=\"NULLABLE\"),\n",
    "        bigquery.SchemaField(\"Group\", \"STRING\", mode=\"NULLABLE\"),\n",
    "        bigquery.SchemaField(\"Series_title_1\", \"STRING\", mode=\"NULLABLE\"),\n",
    "        bigquery.SchemaField(\"Series_title_2\", \"STRING\", mode=\"NULLABLE\"),\n",
    "        bigquery.SchemaField(\"Series_title_3\", \"STRING\", mode=\"NULLABLE\"),\n",
    "        bigquery.SchemaField(\"Series_title_4\", \"STRING\", mode=\"NULLABLE\"),\n",
    "        bigquery.SchemaField(\"Series_title_5\", \"STRING\", mode=\"NULLABLE\"),\n",
    "    ]"
   ]
  },
  {
   "cell_type": "code",
   "execution_count": 20,
   "id": "322dbfeb-13dd-4e54-b2aa-b008a9a17919",
   "metadata": {},
   "outputs": [],
   "source": [
    "table_id = 'text-analysis-323506.dataflow_dataset.df_table'"
   ]
  },
  {
   "cell_type": "code",
   "execution_count": 21,
   "id": "f2f430dd-8725-41b0-8745-451ddf244ac5",
   "metadata": {},
   "outputs": [],
   "source": [
    "table = bigquery.Table(table_id, schema=schema)"
   ]
  },
  {
   "cell_type": "code",
   "execution_count": 22,
   "id": "b7141470-55ab-41f7-81fb-64e5c8b04c67",
   "metadata": {},
   "outputs": [],
   "source": [
    "table = bq_client.create_table(table)"
   ]
  },
  {
   "cell_type": "markdown",
   "id": "f3fa7eb3-b937-445d-bb61-6be1f9e58eba",
   "metadata": {},
   "source": [
    "## Insert data into table"
   ]
  },
  {
   "cell_type": "code",
   "execution_count": 23,
   "id": "7e453aa8-57cf-4e67-9468-43697e85e3c7",
   "metadata": {},
   "outputs": [],
   "source": [
    "file_list = glob.glob('./data/*.csv')\n",
    "gcs_dir = 'gs://text-analysis-323506/data'"
   ]
  },
  {
   "cell_type": "code",
   "execution_count": 24,
   "id": "1577a085-0e5d-4def-906f-51fd75955414",
   "metadata": {},
   "outputs": [],
   "source": [
    "# Job Config\n",
    "\n",
    "job_config = bigquery.LoadJobConfig(\n",
    "    schema=schema,\n",
    "    skip_leading_rows=1,\n",
    "    # The source format defaults to CSV, so the line below is optional.\n",
    "    source_format=bigquery.SourceFormat.CSV,\n",
    "    # WRITE_TRUNCATE replaces existing data \n",
    "    write_disposition=bigquery.WriteDisposition.WRITE_APPEND\n",
    ")"
   ]
  },
  {
   "cell_type": "code",
   "execution_count": 25,
   "id": "a38b0f33-1a7a-4a6c-a69e-a156e2986598",
   "metadata": {},
   "outputs": [],
   "source": [
    "for file in file_list:\n",
    "    os.system(f'gsutil -m cp {file} {gcs_dir}')\n",
    "    gcs_uri = os.path.join(gcs_dir, os.path.basename(file))\n",
    "    \n",
    "    load_job = bq_client.load_table_from_uri(\n",
    "        gcs_uri, table_id, job_config=job_config, \n",
    "    )\n",
    "    \n",
    "    load_job.result()  # Waits for the job to complete."
   ]
  },
  {
   "cell_type": "code",
   "execution_count": 26,
   "id": "754c0089-2ce3-4ea5-88b7-28c2d22ead01",
   "metadata": {},
   "outputs": [
    {
     "name": "stdout",
     "output_type": "stream",
     "text": [
      "Loaded 1318215 rows.\n"
     ]
    }
   ],
   "source": [
    "destination_table = bq_client.get_table(table_id)\n",
    "print(\"Loaded {} rows.\".format(destination_table.num_rows))"
   ]
  },
  {
   "cell_type": "markdown",
   "id": "7b75858a-2319-4013-9680-f07fd97a8538",
   "metadata": {},
   "source": [
    "#### Data is in BigQuery table !!!"
   ]
  },
  {
   "cell_type": "markdown",
   "id": "bd45fe78-1a08-4e9e-9fb2-9bb80298e039",
   "metadata": {},
   "source": [
    " "
   ]
  },
  {
   "cell_type": "markdown",
   "id": "d598f4e0-fe2b-4f99-a0af-d13b15bf63cf",
   "metadata": {},
   "source": [
    "## Create Apache Beam Pipeline"
   ]
  },
  {
   "cell_type": "markdown",
   "id": "ae85c959-f7e4-46d8-89c6-0297e32605d4",
   "metadata": {},
   "source": [
    "__Configurations__"
   ]
  },
  {
   "cell_type": "code",
   "execution_count": 101,
   "id": "5f85ba3e-a55b-4082-b926-d3c094b2f6bc",
   "metadata": {},
   "outputs": [],
   "source": [
    "# Setting up the Apache Beam pipeline options.\n",
    "options = pipeline_options.PipelineOptions(flags=[])\n",
    "\n",
    "# Sets the project to the default project in your current Google Cloud environment.\n",
    "_, options.view_as(GoogleCloudOptions).project = google.auth.default()\n",
    "\n",
    "# Sets the Google Cloud Region in which Cloud Dataflow runs.\n",
    "options.view_as(GoogleCloudOptions).region = 'us-east1'\n",
    "\n",
    "options.view_as(GoogleCloudOptions).job_name = f'csvreader-{datetime.now().strftime(\"%Y%m%d-%H%M%S\")}'\n",
    "\n",
    "dataflow_gcs_location = f'gs://text-analysis-323506/{options.view_as(GoogleCloudOptions).job_name}'\n",
    "\n",
    "# The directory to store the output files of the job.\n",
    "output_gcs_location = f\"{dataflow_gcs_location}/output\"\n",
    "\n",
    "# Dataflow Staging Location. This location is used to stage the Dataflow Pipeline and SDK binary.\n",
    "options.view_as(GoogleCloudOptions).staging_location = f\"{dataflow_gcs_location}/staging\"\n",
    "\n",
    "# Dataflow Temp Location. This location is used to store temporary files or intermediate results before finally outputting to the sink.\n",
    "options.view_as(GoogleCloudOptions).temp_location = f\"{dataflow_gcs_location}/temp\""
   ]
  },
  {
   "cell_type": "code",
   "execution_count": 102,
   "id": "be9642f8-55e6-4805-9ab5-a8d5ae97828d",
   "metadata": {},
   "outputs": [],
   "source": [
    "count = 0\n",
    "def get_info(df):\n",
    "    global count\n",
    "    count = count + 1\n",
    "    return {'df_num': count, 'columns': list(df.columns), 'shape': df.shape}"
   ]
  },
  {
   "cell_type": "code",
   "execution_count": 103,
   "id": "8a047af2-da18-4143-894c-d47d44344438",
   "metadata": {},
   "outputs": [],
   "source": [
    "def convert_namespace(element):\n",
    "    from argparse import Namespace\n",
    "    \n",
    "    return Namespace(**element)"
   ]
  },
  {
   "cell_type": "code",
   "execution_count": 104,
   "id": "51df9e6c-ae87-4f2d-9e0d-d9d2ee37678b",
   "metadata": {},
   "outputs": [],
   "source": [
    "def convert_to_df(element):\n",
    "    import pandas as pd\n",
    "    \n",
    "    ns_list = element[1]\n",
    "    ns_list = [vars(ele) for ele in ns_list]\n",
    "    df = pd.DataFrame(ns_list)\n",
    "    return df"
   ]
  },
  {
   "cell_type": "code",
   "execution_count": 105,
   "id": "3de52f7b-e701-4b4d-a2a7-39b12535c6b1",
   "metadata": {},
   "outputs": [],
   "source": [
    "def get_info(df):\n",
    "    return {'columns': list(df.columns), 'Shape': df.shape}"
   ]
  },
  {
   "cell_type": "code",
   "execution_count": 106,
   "id": "4bde4de9-5901-45db-be8d-feecd71ceeb2",
   "metadata": {},
   "outputs": [
    {
     "name": "stderr",
     "output_type": "stream",
     "text": [
      "/root/apache-beam-2.33.0/lib/python3.7/site-packages/apache_beam/io/gcp/bigquery.py:1935: BeamDeprecationWarning: options is deprecated since First stable release. References to <pipeline>.options will not be supported\n",
      "  temp_location = pcoll.pipeline.options.view_as(\n"
     ]
    }
   ],
   "source": [
    "# Create pipeline object\n",
    "p = beam.Pipeline(InteractiveRunner(), options=options)\n",
    "\n",
    "# Add pipeline components\n",
    "csv_details =(\n",
    "                p \n",
    "                | 'Get data from BigQuery' >> beam.io.ReadFromBigQuery(query='Select * From text-analysis-323506.dataflow_dataset.df_table',\n",
    "                                                                       use_standard_sql=True, project='text-analysis-323506')\n",
    "                | 'Convert to namespace' >> beam.Map(convert_namespace)\n",
    "                | 'Groupby subject' >> beam.GroupBy('Subject')\n",
    "                | 'Convert to dataframe' >> beam.Map(convert_to_df)\n",
    "                | 'Get dataset info' >> beam.Map(get_info)\n",
    "                | 'Write info to Cloud Storage' >> beam.io.WriteToText(f\"{output_gcs_location}/csv_details-output.txt\")\n",
    "             )"
   ]
  },
  {
   "cell_type": "markdown",
   "id": "b077abe8-e120-464d-8629-683fede0e3e6",
   "metadata": {},
   "source": [
    "#### Visualize Pipeline"
   ]
  },
  {
   "cell_type": "code",
   "execution_count": 107,
   "id": "e46c1bf4-5f45-4b8d-aa08-b959801a8bfc",
   "metadata": {},
   "outputs": [
    {
     "data": {
      "text/html": [
       "\n",
       "            <link rel=\"stylesheet\" href=\"https://stackpath.bootstrapcdn.com/bootstrap/4.4.1/css/bootstrap.min.css\" integrity=\"sha384-Vkoo8x4CGsO3+Hhxv8T/Q5PaXtkKtu6ug5TOeNV6gBiFeWPGFN9MuhOf23Q9Ifjh\" crossorigin=\"anonymous\">\n",
       "            <div id=\"progress_indicator_1e00a9c45170d7dd326ed5cd1e9f7262\" class=\"spinner-border text-info\" role=\"status\">\n",
       "            </div>"
      ],
      "text/plain": [
       "<IPython.core.display.HTML object>"
      ]
     },
     "metadata": {},
     "output_type": "display_data"
    },
    {
     "data": {
      "text/html": [
       "<?xml version=\"1.0\" encoding=\"UTF-8\" standalone=\"no\"?>\n",
       "<!DOCTYPE svg PUBLIC \"-//W3C//DTD SVG 1.1//EN\"\n",
       " \"http://www.w3.org/Graphics/SVG/1.1/DTD/svg11.dtd\">\n",
       "<!-- Generated by graphviz version 2.40.1 (20161225.0304)\n",
       " -->\n",
       "<!-- Title: G Pages: 1 -->\n",
       "<svg width=\"268pt\" height=\"925pt\"\n",
       " viewBox=\"0.00 0.00 268.00 924.79\" xmlns=\"http://www.w3.org/2000/svg\" xmlns:xlink=\"http://www.w3.org/1999/xlink\">\n",
       "<g id=\"graph0\" class=\"graph\" transform=\"scale(1 1) rotate(0) translate(4 920.7889)\">\n",
       "<title>G</title>\n",
       "<polygon fill=\"#ffffff\" stroke=\"transparent\" points=\"-4,4 -4,-920.7889 264,-920.7889 264,4 -4,4\"/>\n",
       "<!-- [106]: Get data from BigQuery -->\n",
       "<g id=\"node1\" class=\"node\">\n",
       "<title>[106]: Get data from BigQuery</title>\n",
       "<polygon fill=\"none\" stroke=\"#0000ff\" points=\"248,-916.7889 12,-916.7889 12,-880.7889 248,-880.7889 248,-916.7889\"/>\n",
       "<text text-anchor=\"middle\" x=\"130\" y=\"-895.0889\" font-family=\"Times,serif\" font-size=\"14.00\" fill=\"#0000ff\">[106]: Get data from BigQuery</text>\n",
       "</g>\n",
       "<!-- pcoll4552 -->\n",
       "<g id=\"node2\" class=\"node\">\n",
       "<title>pcoll4552</title>\n",
       "<ellipse fill=\"none\" stroke=\"#0000ff\" cx=\"130\" cy=\"-826.7889\" rx=\"18\" ry=\"18\"/>\n",
       "</g>\n",
       "<!-- [106]: Get data from BigQuery&#45;&gt;pcoll4552 -->\n",
       "<g id=\"edge1\" class=\"edge\">\n",
       "<title>[106]: Get data from BigQuery&#45;&gt;pcoll4552</title>\n",
       "<path fill=\"none\" stroke=\"#000000\" d=\"M130,-880.6203C130,-872.9199 130,-863.7633 130,-855.2056\"/>\n",
       "<polygon fill=\"#000000\" stroke=\"#000000\" points=\"133.5001,-855.2022 130,-845.2022 126.5001,-855.2022 133.5001,-855.2022\"/>\n",
       "</g>\n",
       "<!-- [106]: Convert to namespace -->\n",
       "<g id=\"node3\" class=\"node\">\n",
       "<title>[106]: Convert to namespace</title>\n",
       "<polygon fill=\"none\" stroke=\"#0000ff\" points=\"242,-772.7889 18,-772.7889 18,-736.7889 242,-736.7889 242,-772.7889\"/>\n",
       "<text text-anchor=\"middle\" x=\"130\" y=\"-751.0889\" font-family=\"Times,serif\" font-size=\"14.00\" fill=\"#0000ff\">[106]: Convert to namespace</text>\n",
       "</g>\n",
       "<!-- pcoll4552&#45;&gt;[106]: Convert to namespace -->\n",
       "<g id=\"edge2\" class=\"edge\">\n",
       "<title>pcoll4552&#45;&gt;[106]: Convert to namespace</title>\n",
       "<path fill=\"none\" stroke=\"#000000\" d=\"M130,-808.6203C130,-800.9199 130,-791.7633 130,-783.2056\"/>\n",
       "<polygon fill=\"#000000\" stroke=\"#000000\" points=\"133.5001,-783.2022 130,-773.2022 126.5001,-783.2022 133.5001,-783.2022\"/>\n",
       "</g>\n",
       "<!-- pcoll6837 -->\n",
       "<g id=\"node4\" class=\"node\">\n",
       "<title>pcoll6837</title>\n",
       "<ellipse fill=\"none\" stroke=\"#0000ff\" cx=\"130\" cy=\"-682.7889\" rx=\"18\" ry=\"18\"/>\n",
       "</g>\n",
       "<!-- [106]: Convert to namespace&#45;&gt;pcoll6837 -->\n",
       "<g id=\"edge3\" class=\"edge\">\n",
       "<title>[106]: Convert to namespace&#45;&gt;pcoll6837</title>\n",
       "<path fill=\"none\" stroke=\"#000000\" d=\"M130,-736.6203C130,-728.9199 130,-719.7633 130,-711.2056\"/>\n",
       "<polygon fill=\"#000000\" stroke=\"#000000\" points=\"133.5001,-711.2022 130,-701.2022 126.5001,-711.2022 133.5001,-711.2022\"/>\n",
       "</g>\n",
       "<!-- [106]: Groupby subject -->\n",
       "<g id=\"node5\" class=\"node\">\n",
       "<title>[106]: Groupby subject</title>\n",
       "<polygon fill=\"none\" stroke=\"#0000ff\" points=\"221,-628.7889 39,-628.7889 39,-592.7889 221,-592.7889 221,-628.7889\"/>\n",
       "<text text-anchor=\"middle\" x=\"130\" y=\"-607.0889\" font-family=\"Times,serif\" font-size=\"14.00\" fill=\"#0000ff\">[106]: Groupby subject</text>\n",
       "</g>\n",
       "<!-- pcoll6837&#45;&gt;[106]: Groupby subject -->\n",
       "<g id=\"edge4\" class=\"edge\">\n",
       "<title>pcoll6837&#45;&gt;[106]: Groupby subject</title>\n",
       "<path fill=\"none\" stroke=\"#000000\" d=\"M130,-664.6203C130,-656.9199 130,-647.7633 130,-639.2056\"/>\n",
       "<polygon fill=\"#000000\" stroke=\"#000000\" points=\"133.5001,-639.2022 130,-629.2022 126.5001,-639.2022 133.5001,-639.2022\"/>\n",
       "</g>\n",
       "<!-- pcoll7792 -->\n",
       "<g id=\"node6\" class=\"node\">\n",
       "<title>pcoll7792</title>\n",
       "<ellipse fill=\"none\" stroke=\"#0000ff\" cx=\"130\" cy=\"-538.7889\" rx=\"18\" ry=\"18\"/>\n",
       "</g>\n",
       "<!-- [106]: Groupby subject&#45;&gt;pcoll7792 -->\n",
       "<g id=\"edge5\" class=\"edge\">\n",
       "<title>[106]: Groupby subject&#45;&gt;pcoll7792</title>\n",
       "<path fill=\"none\" stroke=\"#000000\" d=\"M130,-592.6203C130,-584.9199 130,-575.7633 130,-567.2056\"/>\n",
       "<polygon fill=\"#000000\" stroke=\"#000000\" points=\"133.5001,-567.2022 130,-557.2022 126.5001,-567.2022 133.5001,-567.2022\"/>\n",
       "</g>\n",
       "<!-- [106]: Convert to dataframe -->\n",
       "<g id=\"node7\" class=\"node\">\n",
       "<title>[106]: Convert to dataframe</title>\n",
       "<polygon fill=\"none\" stroke=\"#0000ff\" points=\"239,-484.7889 21,-484.7889 21,-448.7889 239,-448.7889 239,-484.7889\"/>\n",
       "<text text-anchor=\"middle\" x=\"130\" y=\"-463.0889\" font-family=\"Times,serif\" font-size=\"14.00\" fill=\"#0000ff\">[106]: Convert to dataframe</text>\n",
       "</g>\n",
       "<!-- pcoll7792&#45;&gt;[106]: Convert to dataframe -->\n",
       "<g id=\"edge6\" class=\"edge\">\n",
       "<title>pcoll7792&#45;&gt;[106]: Convert to dataframe</title>\n",
       "<path fill=\"none\" stroke=\"#000000\" d=\"M130,-520.6203C130,-512.9199 130,-503.7633 130,-495.2056\"/>\n",
       "<polygon fill=\"#000000\" stroke=\"#000000\" points=\"133.5001,-495.2022 130,-485.2022 126.5001,-495.2022 133.5001,-495.2022\"/>\n",
       "</g>\n",
       "<!-- pcoll6513 -->\n",
       "<g id=\"node8\" class=\"node\">\n",
       "<title>pcoll6513</title>\n",
       "<ellipse fill=\"none\" stroke=\"#0000ff\" cx=\"130\" cy=\"-394.7889\" rx=\"18\" ry=\"18\"/>\n",
       "</g>\n",
       "<!-- [106]: Convert to dataframe&#45;&gt;pcoll6513 -->\n",
       "<g id=\"edge7\" class=\"edge\">\n",
       "<title>[106]: Convert to dataframe&#45;&gt;pcoll6513</title>\n",
       "<path fill=\"none\" stroke=\"#000000\" d=\"M130,-448.6203C130,-440.9199 130,-431.7633 130,-423.2056\"/>\n",
       "<polygon fill=\"#000000\" stroke=\"#000000\" points=\"133.5001,-423.2022 130,-413.2022 126.5001,-423.2022 133.5001,-423.2022\"/>\n",
       "</g>\n",
       "<!-- [106]: Get dataset info -->\n",
       "<g id=\"node9\" class=\"node\">\n",
       "<title>[106]: Get dataset info</title>\n",
       "<polygon fill=\"none\" stroke=\"#0000ff\" points=\"219,-340.7889 41,-340.7889 41,-304.7889 219,-304.7889 219,-340.7889\"/>\n",
       "<text text-anchor=\"middle\" x=\"130\" y=\"-319.0889\" font-family=\"Times,serif\" font-size=\"14.00\" fill=\"#0000ff\">[106]: Get dataset info</text>\n",
       "</g>\n",
       "<!-- pcoll6513&#45;&gt;[106]: Get dataset info -->\n",
       "<g id=\"edge8\" class=\"edge\">\n",
       "<title>pcoll6513&#45;&gt;[106]: Get dataset info</title>\n",
       "<path fill=\"none\" stroke=\"#000000\" d=\"M130,-376.6203C130,-368.9199 130,-359.7633 130,-351.2056\"/>\n",
       "<polygon fill=\"#000000\" stroke=\"#000000\" points=\"133.5001,-351.2022 130,-341.2022 126.5001,-351.2022 133.5001,-351.2022\"/>\n",
       "</g>\n",
       "<!-- pcoll9582 -->\n",
       "<g id=\"node10\" class=\"node\">\n",
       "<title>pcoll9582</title>\n",
       "<ellipse fill=\"none\" stroke=\"#0000ff\" cx=\"130\" cy=\"-250.7889\" rx=\"18\" ry=\"18\"/>\n",
       "</g>\n",
       "<!-- [106]: Get dataset info&#45;&gt;pcoll9582 -->\n",
       "<g id=\"edge9\" class=\"edge\">\n",
       "<title>[106]: Get dataset info&#45;&gt;pcoll9582</title>\n",
       "<path fill=\"none\" stroke=\"#000000\" d=\"M130,-304.6203C130,-296.9199 130,-287.7633 130,-279.2056\"/>\n",
       "<polygon fill=\"#000000\" stroke=\"#000000\" points=\"133.5001,-279.2022 130,-269.2022 126.5001,-279.2022 133.5001,-279.2022\"/>\n",
       "</g>\n",
       "<!-- [106]: Write info to Cloud Storage -->\n",
       "<g id=\"node11\" class=\"node\">\n",
       "<title>[106]: Write info to Cloud Storage</title>\n",
       "<polygon fill=\"none\" stroke=\"#0000ff\" points=\"260,-196.7889 0,-196.7889 0,-160.7889 260,-160.7889 260,-196.7889\"/>\n",
       "<text text-anchor=\"middle\" x=\"130\" y=\"-175.0889\" font-family=\"Times,serif\" font-size=\"14.00\" fill=\"#0000ff\">[106]: Write info to Cloud Storage</text>\n",
       "</g>\n",
       "<!-- pcoll9582&#45;&gt;[106]: Write info to Cloud Storage -->\n",
       "<g id=\"edge10\" class=\"edge\">\n",
       "<title>pcoll9582&#45;&gt;[106]: Write info to Cloud Storage</title>\n",
       "<path fill=\"none\" stroke=\"#000000\" d=\"M130,-232.6203C130,-224.9199 130,-215.7633 130,-207.2056\"/>\n",
       "<polygon fill=\"#000000\" stroke=\"#000000\" points=\"133.5001,-207.2022 130,-197.2022 126.5001,-207.2022 133.5001,-207.2022\"/>\n",
       "</g>\n",
       "<!-- csv_details -->\n",
       "<g id=\"node12\" class=\"node\">\n",
       "<title>csv_details</title>\n",
       "<ellipse fill=\"none\" stroke=\"#0000ff\" cx=\"130\" cy=\"-62.3945\" rx=\"62.2891\" ry=\"62.2891\"/>\n",
       "<text text-anchor=\"middle\" x=\"130\" y=\"-58.6945\" font-family=\"Times,serif\" font-size=\"14.00\" fill=\"#0000ff\">csv_details</text>\n",
       "</g>\n",
       "<!-- [106]: Write info to Cloud Storage&#45;&gt;csv_details -->\n",
       "<g id=\"edge11\" class=\"edge\">\n",
       "<title>[106]: Write info to Cloud Storage&#45;&gt;csv_details</title>\n",
       "<path fill=\"none\" stroke=\"#000000\" d=\"M130,-160.6023C130,-153.2944 130,-144.3552 130,-134.8772\"/>\n",
       "<polygon fill=\"#000000\" stroke=\"#000000\" points=\"133.5001,-134.8508 130,-124.8508 126.5001,-134.8508 133.5001,-134.8508\"/>\n",
       "</g>\n",
       "</g>\n",
       "</svg>\n"
      ],
      "text/plain": [
       "<IPython.core.display.HTML object>"
      ]
     },
     "metadata": {},
     "output_type": "display_data"
    },
    {
     "data": {
      "application/javascript": [
       "\n",
       "        if (typeof window.interactive_beam_jquery == 'undefined') {\n",
       "          var jqueryScript = document.createElement('script');\n",
       "          jqueryScript.src = 'https://code.jquery.com/jquery-3.4.1.slim.min.js';\n",
       "          jqueryScript.type = 'text/javascript';\n",
       "          jqueryScript.onload = function() {\n",
       "            var datatableScript = document.createElement('script');\n",
       "            datatableScript.src = 'https://cdn.datatables.net/1.10.20/js/jquery.dataTables.min.js';\n",
       "            datatableScript.type = 'text/javascript';\n",
       "            datatableScript.onload = function() {\n",
       "              window.interactive_beam_jquery = jQuery.noConflict(true);\n",
       "              window.interactive_beam_jquery(document).ready(function($){\n",
       "                \n",
       "            $(\"#progress_indicator_1e00a9c45170d7dd326ed5cd1e9f7262\").remove();\n",
       "              });\n",
       "            }\n",
       "            document.head.appendChild(datatableScript);\n",
       "          };\n",
       "          document.head.appendChild(jqueryScript);\n",
       "        } else {\n",
       "          window.interactive_beam_jquery(document).ready(function($){\n",
       "            \n",
       "            $(\"#progress_indicator_1e00a9c45170d7dd326ed5cd1e9f7262\").remove();\n",
       "          });\n",
       "        }"
      ]
     },
     "metadata": {},
     "output_type": "display_data"
    }
   ],
   "source": [
    "ib.show_graph(p)"
   ]
  },
  {
   "cell_type": "code",
   "execution_count": 108,
   "id": "f0a09f65-e4e9-4cfa-aeee-5534663b2b71",
   "metadata": {},
   "outputs": [],
   "source": [
    "# start_time = datetime.now()\n",
    "# p.run().wait_until_finish()\n",
    "# end_time = datetime.now()"
   ]
  },
  {
   "cell_type": "markdown",
   "id": "f3e1351b-7a53-4e83-98f1-7c8faae652ea",
   "metadata": {},
   "source": [
    "### Run the pipeline on Cloud Dataflow"
   ]
  },
  {
   "cell_type": "code",
   "execution_count": 109,
   "id": "25201b66-449d-4a89-9652-91d32c8b1654",
   "metadata": {},
   "outputs": [
    {
     "name": "stderr",
     "output_type": "stream",
     "text": [
      "WARNING:root:Make sure that locally built Python SDK docker image has Python 3.7 interpreter.\n"
     ]
    }
   ],
   "source": [
    "# Submit job\n",
    "# Important: Enable dataflow api if not enabled, in google cloud platform console\n",
    "pipeline_result = DataflowRunner().run_pipeline(p, options=options)"
   ]
  },
  {
   "cell_type": "markdown",
   "id": "38840801-a490-40a4-80c1-e6a4aa03e7cc",
   "metadata": {},
   "source": [
    "#### Results are written into 'output_gcs_location' specified in configurations section."
   ]
  },
  {
   "cell_type": "code",
   "execution_count": null,
   "id": "86196518-a633-4220-9aae-d80e1915e3b4",
   "metadata": {},
   "outputs": [],
   "source": []
  }
 ],
 "metadata": {
  "kernelspec": {
   "display_name": "1. Apache Beam 2.33.0 for Python 3",
   "language": "python",
   "name": "1-apache-beam-2.33.0"
  },
  "language_info": {
   "codemirror_mode": {
    "name": "ipython",
    "version": 3
   },
   "file_extension": ".py",
   "mimetype": "text/x-python",
   "name": "python",
   "nbconvert_exporter": "python",
   "pygments_lexer": "ipython3",
   "version": "3.7.10"
  }
 },
 "nbformat": 4,
 "nbformat_minor": 5
}
