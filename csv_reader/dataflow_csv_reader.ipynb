{
 "cells": [
  {
   "cell_type": "code",
   "execution_count": 54,
   "id": "4ca772d1-1b6b-4f59-a65d-cbebbb363659",
   "metadata": {},
   "outputs": [],
   "source": [
    "import apache_beam as beam\n",
    "import pandas as pd\n",
    "import glob\n",
    "import os\n",
    "import sys\n",
    "\n",
    "from google.cloud import bigquery\n",
    "from apache_beam.io.gcp.internal.clients import bigquery as BeamBigQuery\n",
    "\n",
    "import google.auth\n",
    "\n",
    "from datetime import datetime\n",
    "\n",
    "from apache_beam.options import pipeline_options\n",
    "from apache_beam.options.pipeline_options import GoogleCloudOptions\n",
    "from apache_beam.runners import DataflowRunner\n",
    "\n",
    "import apache_beam.runners.interactive.interactive_beam as ib\n",
    "from apache_beam.runners.interactive.interactive_runner import InteractiveRunner"
   ]
  },
  {
   "cell_type": "markdown",
   "id": "e6d89ca9-5d4c-4e9c-9d0b-e599afb4a6c5",
   "metadata": {},
   "source": [
    "To access data in our csv files, it needs to be put on a bigquery table first."
   ]
  },
  {
   "cell_type": "markdown",
   "id": "67e95e02-e9d2-491d-ac00-c2fe5c82d058",
   "metadata": {},
   "source": [
    "## Pushing data in csv files to a bigquery table  "
   ]
  },
  {
   "cell_type": "code",
   "execution_count": 6,
   "id": "cd4a0dce-969a-445d-a30f-be13bc933994",
   "metadata": {},
   "outputs": [],
   "source": [
    "bq_client = bigquery.Client()"
   ]
  },
  {
   "cell_type": "markdown",
   "id": "151b8eb7-bf86-447c-9ad2-89424244246e",
   "metadata": {},
   "source": [
    "### Create Dataset"
   ]
  },
  {
   "cell_type": "code",
   "execution_count": 7,
   "id": "2f2e8359-e7c5-4d6f-9b8f-35b0b11f9844",
   "metadata": {},
   "outputs": [],
   "source": [
    "dataset = bigquery.Dataset('text-analysis-323506.dataflow_dataset')"
   ]
  },
  {
   "cell_type": "code",
   "execution_count": 8,
   "id": "e8c834f3-4cbd-4099-85ab-01053013beae",
   "metadata": {},
   "outputs": [],
   "source": [
    "dataset.location = \"us-east1\""
   ]
  },
  {
   "cell_type": "code",
   "execution_count": 9,
   "id": "985029d9-7919-4230-8e03-f6ff59471d52",
   "metadata": {},
   "outputs": [],
   "source": [
    "dataset = bq_client.create_dataset(dataset, timeout=30)"
   ]
  },
  {
   "cell_type": "markdown",
   "id": "69088c6d-b4c4-4103-af0a-f5c42536a6a1",
   "metadata": {},
   "source": [
    "### Create Table "
   ]
  },
  {
   "cell_type": "code",
   "execution_count": 26,
   "id": "6090a6fc-450d-4cb4-9d57-2751cf4ab3d4",
   "metadata": {},
   "outputs": [],
   "source": [
    "schema = [\n",
    "        bigquery.SchemaField(\"Series_reference\", \"STRING\", mode=\"NULLABLE\"),\n",
    "        bigquery.SchemaField(\"Period\", \"FLOAT\", mode=\"NULLABLE\"),\n",
    "        bigquery.SchemaField(\"Data_value\", \"FLOAT\", mode=\"NULLABLE\"),\n",
    "        bigquery.SchemaField(\"STATUS\", \"STRING\", mode=\"NULLABLE\"),\n",
    "        bigquery.SchemaField(\"UNITS\", \"STRING\", mode=\"NULLABLE\"),\n",
    "        bigquery.SchemaField(\"MAGNTUDE\", \"INTEGER\", mode=\"NULLABLE\"),\n",
    "        bigquery.SchemaField(\"Subject\", \"STRING\", mode=\"NULLABLE\"),\n",
    "        bigquery.SchemaField(\"Group\", \"STRING\", mode=\"NULLABLE\"),\n",
    "        bigquery.SchemaField(\"Series_title_1\", \"STRING\", mode=\"NULLABLE\"),\n",
    "        bigquery.SchemaField(\"Series_title_2\", \"STRING\", mode=\"NULLABLE\"),\n",
    "        bigquery.SchemaField(\"Series_title_3\", \"STRING\", mode=\"NULLABLE\"),\n",
    "        bigquery.SchemaField(\"Series_title_4\", \"STRING\", mode=\"NULLABLE\"),\n",
    "        bigquery.SchemaField(\"Series_title_5\", \"STRING\", mode=\"NULLABLE\"),\n",
    "    ]"
   ]
  },
  {
   "cell_type": "code",
   "execution_count": 27,
   "id": "322dbfeb-13dd-4e54-b2aa-b008a9a17919",
   "metadata": {},
   "outputs": [],
   "source": [
    "table_id = 'text-analysis-323506.dataflow_dataset.df_table'"
   ]
  },
  {
   "cell_type": "code",
   "execution_count": 28,
   "id": "f2f430dd-8725-41b0-8745-451ddf244ac5",
   "metadata": {},
   "outputs": [],
   "source": [
    "table = bigquery.Table(table_id, schema=schema)"
   ]
  },
  {
   "cell_type": "code",
   "execution_count": 29,
   "id": "b7141470-55ab-41f7-81fb-64e5c8b04c67",
   "metadata": {},
   "outputs": [],
   "source": [
    "table = bq_client.create_table(table)"
   ]
  },
  {
   "cell_type": "markdown",
   "id": "f3fa7eb3-b937-445d-bb61-6be1f9e58eba",
   "metadata": {},
   "source": [
    "## Insert data into table"
   ]
  },
  {
   "cell_type": "code",
   "execution_count": 30,
   "id": "7e453aa8-57cf-4e67-9468-43697e85e3c7",
   "metadata": {},
   "outputs": [],
   "source": [
    "file_list = glob.glob('./data/*.csv')\n",
    "gcs_dir = 'gs://text-analysis-323506/data'"
   ]
  },
  {
   "cell_type": "code",
   "execution_count": 31,
   "id": "1577a085-0e5d-4def-906f-51fd75955414",
   "metadata": {},
   "outputs": [],
   "source": [
    "# Job Config\n",
    "\n",
    "job_config = bigquery.LoadJobConfig(\n",
    "    schema=schema,\n",
    "    skip_leading_rows=1,\n",
    "    # The source format defaults to CSV, so the line below is optional.\n",
    "    source_format=bigquery.SourceFormat.CSV,\n",
    "    # WRITE_TRUNCATE replaces existing data \n",
    "    write_disposition=bigquery.WriteDisposition.WRITE_APPEND\n",
    ")"
   ]
  },
  {
   "cell_type": "code",
   "execution_count": 32,
   "id": "a38b0f33-1a7a-4a6c-a69e-a156e2986598",
   "metadata": {},
   "outputs": [],
   "source": [
    "for file in file_list:\n",
    "    os.system(f'gsutil -m cp {file} {gcs_dir}')\n",
    "    gcs_uri = os.path.join(gcs_dir, os.path.basename(file))\n",
    "    \n",
    "    load_job = bq_client.load_table_from_uri(\n",
    "        gcs_uri, table_id, job_config=job_config, \n",
    "    )\n",
    "    \n",
    "    load_job.result()  # Waits for the job to complete."
   ]
  },
  {
   "cell_type": "code",
   "execution_count": 33,
   "id": "754c0089-2ce3-4ea5-88b7-28c2d22ead01",
   "metadata": {},
   "outputs": [
    {
     "name": "stdout",
     "output_type": "stream",
     "text": [
      "Loaded 1318215 rows.\n"
     ]
    }
   ],
   "source": [
    "destination_table = bq_client.get_table(table_id)\n",
    "print(\"Loaded {} rows.\".format(destination_table.num_rows))"
   ]
  },
  {
   "cell_type": "markdown",
   "id": "7b75858a-2319-4013-9680-f07fd97a8538",
   "metadata": {},
   "source": [
    "#### Data is in BigQuery table !!!"
   ]
  },
  {
   "cell_type": "markdown",
   "id": "bd45fe78-1a08-4e9e-9fb2-9bb80298e039",
   "metadata": {},
   "source": [
    " "
   ]
  },
  {
   "cell_type": "markdown",
   "id": "d598f4e0-fe2b-4f99-a0af-d13b15bf63cf",
   "metadata": {},
   "source": [
    "## Run Pipeline as a dataflow job"
   ]
  },
  {
   "cell_type": "code",
   "execution_count": 61,
   "id": "5f85ba3e-a55b-4082-b926-d3c094b2f6bc",
   "metadata": {},
   "outputs": [],
   "source": [
    "# Setting up the Apache Beam pipeline options.\n",
    "options = pipeline_options.PipelineOptions(flags=[])\n",
    "\n",
    "# Sets the project to the default project in your current Google Cloud environment.\n",
    "_, options.view_as(GoogleCloudOptions).project = google.auth.default()\n",
    "\n",
    "# Sets the Google Cloud Region in which Cloud Dataflow runs.\n",
    "options.view_as(GoogleCloudOptions).region = 'us-east1'"
   ]
  },
  {
   "cell_type": "code",
   "execution_count": 62,
   "id": "274c007e-6ea5-4df9-97d0-6236d4adb731",
   "metadata": {},
   "outputs": [],
   "source": [
    "options.view_as(GoogleCloudOptions).job_name = f'dataflow_csvreader-{datetime.now().strftime(\"%Y-%m-%d-%H:%M:%S\")}'"
   ]
  },
  {
   "cell_type": "code",
   "execution_count": 63,
   "id": "89da4e81-19fe-4b9b-96bc-58ed20fa5ddd",
   "metadata": {},
   "outputs": [],
   "source": [
    "dataflow_gcs_location = f'gs://text-analysis-323506/{options.view_as(GoogleCloudOptions).job_name}'\n",
    "\n",
    "# The directory to store the output files of the job.\n",
    "output_gcs_location = f\"{dataflow_gcs_location}/output\""
   ]
  },
  {
   "cell_type": "code",
   "execution_count": 64,
   "id": "21f211b8-9f87-4125-91ed-5693b45db76f",
   "metadata": {},
   "outputs": [],
   "source": [
    "# Dataflow Staging Location. This location is used to stage the Dataflow Pipeline and SDK binary.\n",
    "options.view_as(GoogleCloudOptions).staging_location = f\"{dataflow_gcs_location}/staging\"\n",
    "\n",
    "# Dataflow Temp Location. This location is used to store temporary files or intermediate results before finally outputting to the sink.\n",
    "options.view_as(GoogleCloudOptions).temp_location = f\"{dataflow_gcs_location}/temp\""
   ]
  },
  {
   "cell_type": "code",
   "execution_count": 65,
   "id": "be9642f8-55e6-4805-9ab5-a8d5ae97828d",
   "metadata": {},
   "outputs": [],
   "source": [
    "count = 0\n",
    "def get_info(df):\n",
    "    global count\n",
    "    count = count + 1\n",
    "    return {'df_num': count, 'columns': list(df.columns), 'shape': df.shape}"
   ]
  },
  {
   "cell_type": "code",
   "execution_count": 66,
   "id": "d3cbd0ed-8689-4f81-95a1-87870b585d4d",
   "metadata": {},
   "outputs": [],
   "source": [
    "# Create pipeline object\n",
    "p = beam.Pipeline(InteractiveRunner(), argv=argv)"
   ]
  },
  {
   "cell_type": "code",
   "execution_count": 67,
   "id": "4bde4de9-5901-45db-be8d-feecd71ceeb2",
   "metadata": {},
   "outputs": [
    {
     "name": "stderr",
     "output_type": "stream",
     "text": [
      "/root/apache-beam-2.33.0/lib/python3.7/site-packages/apache_beam/io/gcp/bigquery.py:1935: BeamDeprecationWarning: options is deprecated since First stable release. References to <pipeline>.options will not be supported\n",
      "  temp_location = pcoll.pipeline.options.view_as(\n"
     ]
    }
   ],
   "source": [
    "# Add pipeline components\n",
    "csv_details =   (\n",
    "                    p \n",
    "                    | 'Get data from BigQuery' >> beam.io.ReadFromBigQuery(query='Select * From text-analysis-323506.dataflow_dataset.df_table',\n",
    "                                                                           use_standard_sql=True, project='text-analysis-323506')\n",
    "                    | 'Write data to Cloud Storage' >> beam.io.WriteToText(f\"{output_gcs_location}/csv_details-output.txt\")\n",
    "                 )"
   ]
  },
  {
   "cell_type": "markdown",
   "id": "b077abe8-e120-464d-8629-683fede0e3e6",
   "metadata": {},
   "source": [
    "#### Visualize Pipeline"
   ]
  },
  {
   "cell_type": "code",
   "execution_count": 68,
   "id": "e46c1bf4-5f45-4b8d-aa08-b959801a8bfc",
   "metadata": {},
   "outputs": [
    {
     "data": {
      "text/html": [
       "\n",
       "            <link rel=\"stylesheet\" href=\"https://stackpath.bootstrapcdn.com/bootstrap/4.4.1/css/bootstrap.min.css\" integrity=\"sha384-Vkoo8x4CGsO3+Hhxv8T/Q5PaXtkKtu6ug5TOeNV6gBiFeWPGFN9MuhOf23Q9Ifjh\" crossorigin=\"anonymous\">\n",
       "            <div id=\"progress_indicator_53a0a88d6df10ee62518169bfd35ed24\" class=\"spinner-border text-info\" role=\"status\">\n",
       "            </div>"
      ],
      "text/plain": [
       "<IPython.core.display.HTML object>"
      ]
     },
     "metadata": {},
     "output_type": "display_data"
    },
    {
     "data": {
      "text/html": [
       "<?xml version=\"1.0\" encoding=\"UTF-8\" standalone=\"no\"?>\n",
       "<!DOCTYPE svg PUBLIC \"-//W3C//DTD SVG 1.1//EN\"\n",
       " \"http://www.w3.org/Graphics/SVG/1.1/DTD/svg11.dtd\">\n",
       "<!-- Generated by graphviz version 2.40.1 (20161225.0304)\n",
       " -->\n",
       "<!-- Title: G Pages: 1 -->\n",
       "<svg width=\"264pt\" height=\"349pt\"\n",
       " viewBox=\"0.00 0.00 264.00 348.79\" xmlns=\"http://www.w3.org/2000/svg\" xmlns:xlink=\"http://www.w3.org/1999/xlink\">\n",
       "<g id=\"graph0\" class=\"graph\" transform=\"scale(1 1) rotate(0) translate(4 344.7889)\">\n",
       "<title>G</title>\n",
       "<polygon fill=\"#ffffff\" stroke=\"transparent\" points=\"-4,4 -4,-344.7889 260,-344.7889 260,4 -4,4\"/>\n",
       "<!-- [67]: Get data from BigQuery -->\n",
       "<g id=\"node1\" class=\"node\">\n",
       "<title>[67]: Get data from BigQuery</title>\n",
       "<polygon fill=\"none\" stroke=\"#0000ff\" points=\"241.5,-340.7889 14.5,-340.7889 14.5,-304.7889 241.5,-304.7889 241.5,-340.7889\"/>\n",
       "<text text-anchor=\"middle\" x=\"128\" y=\"-319.0889\" font-family=\"Times,serif\" font-size=\"14.00\" fill=\"#0000ff\">[67]: Get data from BigQuery</text>\n",
       "</g>\n",
       "<!-- pcoll3674 -->\n",
       "<g id=\"node2\" class=\"node\">\n",
       "<title>pcoll3674</title>\n",
       "<ellipse fill=\"none\" stroke=\"#0000ff\" cx=\"128\" cy=\"-250.7889\" rx=\"18\" ry=\"18\"/>\n",
       "</g>\n",
       "<!-- [67]: Get data from BigQuery&#45;&gt;pcoll3674 -->\n",
       "<g id=\"edge1\" class=\"edge\">\n",
       "<title>[67]: Get data from BigQuery&#45;&gt;pcoll3674</title>\n",
       "<path fill=\"none\" stroke=\"#000000\" d=\"M128,-304.6203C128,-296.9199 128,-287.7633 128,-279.2056\"/>\n",
       "<polygon fill=\"#000000\" stroke=\"#000000\" points=\"131.5001,-279.2022 128,-269.2022 124.5001,-279.2022 131.5001,-279.2022\"/>\n",
       "</g>\n",
       "<!-- [67]: Write data to Cloud Storage -->\n",
       "<g id=\"node3\" class=\"node\">\n",
       "<title>[67]: Write data to Cloud Storage</title>\n",
       "<polygon fill=\"none\" stroke=\"#0000ff\" points=\"256,-196.7889 0,-196.7889 0,-160.7889 256,-160.7889 256,-196.7889\"/>\n",
       "<text text-anchor=\"middle\" x=\"128\" y=\"-175.0889\" font-family=\"Times,serif\" font-size=\"14.00\" fill=\"#0000ff\">[67]: Write data to Cloud Storage</text>\n",
       "</g>\n",
       "<!-- pcoll3674&#45;&gt;[67]: Write data to Cloud Storage -->\n",
       "<g id=\"edge2\" class=\"edge\">\n",
       "<title>pcoll3674&#45;&gt;[67]: Write data to Cloud Storage</title>\n",
       "<path fill=\"none\" stroke=\"#000000\" d=\"M128,-232.6203C128,-224.9199 128,-215.7633 128,-207.2056\"/>\n",
       "<polygon fill=\"#000000\" stroke=\"#000000\" points=\"131.5001,-207.2022 128,-197.2022 124.5001,-207.2022 131.5001,-207.2022\"/>\n",
       "</g>\n",
       "<!-- csv_details -->\n",
       "<g id=\"node4\" class=\"node\">\n",
       "<title>csv_details</title>\n",
       "<ellipse fill=\"none\" stroke=\"#0000ff\" cx=\"128\" cy=\"-62.3945\" rx=\"62.2891\" ry=\"62.2891\"/>\n",
       "<text text-anchor=\"middle\" x=\"128\" y=\"-58.6945\" font-family=\"Times,serif\" font-size=\"14.00\" fill=\"#0000ff\">csv_details</text>\n",
       "</g>\n",
       "<!-- [67]: Write data to Cloud Storage&#45;&gt;csv_details -->\n",
       "<g id=\"edge3\" class=\"edge\">\n",
       "<title>[67]: Write data to Cloud Storage&#45;&gt;csv_details</title>\n",
       "<path fill=\"none\" stroke=\"#000000\" d=\"M128,-160.6023C128,-153.2944 128,-144.3552 128,-134.8772\"/>\n",
       "<polygon fill=\"#000000\" stroke=\"#000000\" points=\"131.5001,-134.8508 128,-124.8508 124.5001,-134.8508 131.5001,-134.8508\"/>\n",
       "</g>\n",
       "</g>\n",
       "</svg>\n"
      ],
      "text/plain": [
       "<IPython.core.display.HTML object>"
      ]
     },
     "metadata": {},
     "output_type": "display_data"
    },
    {
     "data": {
      "application/javascript": [
       "\n",
       "        if (typeof window.interactive_beam_jquery == 'undefined') {\n",
       "          var jqueryScript = document.createElement('script');\n",
       "          jqueryScript.src = 'https://code.jquery.com/jquery-3.4.1.slim.min.js';\n",
       "          jqueryScript.type = 'text/javascript';\n",
       "          jqueryScript.onload = function() {\n",
       "            var datatableScript = document.createElement('script');\n",
       "            datatableScript.src = 'https://cdn.datatables.net/1.10.20/js/jquery.dataTables.min.js';\n",
       "            datatableScript.type = 'text/javascript';\n",
       "            datatableScript.onload = function() {\n",
       "              window.interactive_beam_jquery = jQuery.noConflict(true);\n",
       "              window.interactive_beam_jquery(document).ready(function($){\n",
       "                \n",
       "            $(\"#progress_indicator_53a0a88d6df10ee62518169bfd35ed24\").remove();\n",
       "              });\n",
       "            }\n",
       "            document.head.appendChild(datatableScript);\n",
       "          };\n",
       "          document.head.appendChild(jqueryScript);\n",
       "        } else {\n",
       "          window.interactive_beam_jquery(document).ready(function($){\n",
       "            \n",
       "            $(\"#progress_indicator_53a0a88d6df10ee62518169bfd35ed24\").remove();\n",
       "          });\n",
       "        }"
      ]
     },
     "metadata": {},
     "output_type": "display_data"
    }
   ],
   "source": [
    "ib.show_graph(p)"
   ]
  },
  {
   "cell_type": "code",
   "execution_count": 69,
   "id": "25201b66-449d-4a89-9652-91d32c8b1654",
   "metadata": {},
   "outputs": [
    {
     "name": "stderr",
     "output_type": "stream",
     "text": [
      "WARNING:root:Make sure that locally built Python SDK docker image has Python 3.7 interpreter.\n"
     ]
    }
   ],
   "source": [
    "# Submit job\n",
    "# Important: Enable dataflow api if not enabled, in google cloud platform console\n",
    "pipeline_result = DataflowRunner().run_pipeline(p, options=options)"
   ]
  },
  {
   "cell_type": "code",
   "execution_count": null,
   "id": "951173b7-754a-4b6f-b13a-852f4bf03bf2",
   "metadata": {},
   "outputs": [],
   "source": []
  }
 ],
 "metadata": {
  "kernelspec": {
   "display_name": "1. Apache Beam 2.33.0 for Python 3",
   "language": "python",
   "name": "1-apache-beam-2.33.0"
  },
  "language_info": {
   "codemirror_mode": {
    "name": "ipython",
    "version": 3
   },
   "file_extension": ".py",
   "mimetype": "text/x-python",
   "name": "python",
   "nbconvert_exporter": "python",
   "pygments_lexer": "ipython3",
   "version": "3.7.10"
  }
 },
 "nbformat": 4,
 "nbformat_minor": 5
}
