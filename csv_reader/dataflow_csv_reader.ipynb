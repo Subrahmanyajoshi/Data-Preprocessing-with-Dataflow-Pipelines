{
 "cells": [
  {
   "cell_type": "code",
   "execution_count": 21,
   "id": "4ca772d1-1b6b-4f59-a65d-cbebbb363659",
   "metadata": {},
   "outputs": [],
   "source": [
    "import apache_beam as beam\n",
    "import glob\n",
    "import os\n",
    "import sys\n",
    "\n",
    "from google.cloud import bigquery\n",
    "\n",
    "import google.auth\n",
    "\n",
    "from datetime import datetime\n",
    "\n",
    "from apache_beam.options import pipeline_options\n",
    "from apache_beam.options.pipeline_options import GoogleCloudOptions\n",
    "from apache_beam.runners import DataflowRunner\n",
    "\n",
    "import apache_beam.runners.interactive.interactive_beam as ib\n",
    "from apache_beam.runners.interactive.interactive_runner import InteractiveRunner"
   ]
  },
  {
   "cell_type": "markdown",
   "id": "e6d89ca9-5d4c-4e9c-9d0b-e599afb4a6c5",
   "metadata": {},
   "source": [
    "To access data in our csv files, it needs to be put on a bigquery table first."
   ]
  },
  {
   "cell_type": "markdown",
   "id": "67e95e02-e9d2-491d-ac00-c2fe5c82d058",
   "metadata": {},
   "source": [
    "## Pushing data in csv files to a bigquery table  "
   ]
  },
  {
   "cell_type": "code",
   "execution_count": 2,
   "id": "cd4a0dce-969a-445d-a30f-be13bc933994",
   "metadata": {},
   "outputs": [],
   "source": [
    "bq_client = bigquery.Client()"
   ]
  },
  {
   "cell_type": "markdown",
   "id": "151b8eb7-bf86-447c-9ad2-89424244246e",
   "metadata": {},
   "source": [
    "### Create Dataset"
   ]
  },
  {
   "cell_type": "code",
   "execution_count": 3,
   "id": "2f2e8359-e7c5-4d6f-9b8f-35b0b11f9844",
   "metadata": {},
   "outputs": [],
   "source": [
    "dataset = bigquery.Dataset('text-analysis-323506.dataflow_dataset')"
   ]
  },
  {
   "cell_type": "code",
   "execution_count": 4,
   "id": "e8c834f3-4cbd-4099-85ab-01053013beae",
   "metadata": {},
   "outputs": [],
   "source": [
    "dataset.location = \"us-east1\""
   ]
  },
  {
   "cell_type": "code",
   "execution_count": 5,
   "id": "985029d9-7919-4230-8e03-f6ff59471d52",
   "metadata": {},
   "outputs": [],
   "source": [
    "dataset = bq_client.create_dataset(dataset, timeout=30)"
   ]
  },
  {
   "cell_type": "markdown",
   "id": "69088c6d-b4c4-4103-af0a-f5c42536a6a1",
   "metadata": {},
   "source": [
    "### Create Table "
   ]
  },
  {
   "cell_type": "code",
   "execution_count": 6,
   "id": "6090a6fc-450d-4cb4-9d57-2751cf4ab3d4",
   "metadata": {},
   "outputs": [],
   "source": [
    "schema = [\n",
    "        bigquery.SchemaField(\"Series_reference\", \"STRING\", mode=\"NULLABLE\"),\n",
    "        bigquery.SchemaField(\"Period\", \"FLOAT\", mode=\"NULLABLE\"),\n",
    "        bigquery.SchemaField(\"Data_value\", \"FLOAT\", mode=\"NULLABLE\"),\n",
    "        bigquery.SchemaField(\"STATUS\", \"STRING\", mode=\"NULLABLE\"),\n",
    "        bigquery.SchemaField(\"UNITS\", \"STRING\", mode=\"NULLABLE\"),\n",
    "        bigquery.SchemaField(\"MAGNTUDE\", \"INTEGER\", mode=\"NULLABLE\"),\n",
    "        bigquery.SchemaField(\"Subject\", \"STRING\", mode=\"NULLABLE\"),\n",
    "        bigquery.SchemaField(\"Group\", \"STRING\", mode=\"NULLABLE\"),\n",
    "        bigquery.SchemaField(\"Series_title_1\", \"STRING\", mode=\"NULLABLE\"),\n",
    "        bigquery.SchemaField(\"Series_title_2\", \"STRING\", mode=\"NULLABLE\"),\n",
    "        bigquery.SchemaField(\"Series_title_3\", \"STRING\", mode=\"NULLABLE\"),\n",
    "        bigquery.SchemaField(\"Series_title_4\", \"STRING\", mode=\"NULLABLE\"),\n",
    "        bigquery.SchemaField(\"Series_title_5\", \"STRING\", mode=\"NULLABLE\"),\n",
    "    ]"
   ]
  },
  {
   "cell_type": "code",
   "execution_count": 7,
   "id": "322dbfeb-13dd-4e54-b2aa-b008a9a17919",
   "metadata": {},
   "outputs": [],
   "source": [
    "table_id = 'text-analysis-323506.dataflow_dataset.df_table'"
   ]
  },
  {
   "cell_type": "code",
   "execution_count": 8,
   "id": "f2f430dd-8725-41b0-8745-451ddf244ac5",
   "metadata": {},
   "outputs": [],
   "source": [
    "table = bigquery.Table(table_id, schema=schema)"
   ]
  },
  {
   "cell_type": "code",
   "execution_count": 9,
   "id": "b7141470-55ab-41f7-81fb-64e5c8b04c67",
   "metadata": {},
   "outputs": [],
   "source": [
    "table = bq_client.create_table(table)"
   ]
  },
  {
   "cell_type": "markdown",
   "id": "f3fa7eb3-b937-445d-bb61-6be1f9e58eba",
   "metadata": {},
   "source": [
    "## Insert data into table"
   ]
  },
  {
   "cell_type": "code",
   "execution_count": 17,
   "id": "7e453aa8-57cf-4e67-9468-43697e85e3c7",
   "metadata": {},
   "outputs": [],
   "source": [
    "file_list = glob.glob('./data/*.csv')\n",
    "gcs_dir = 'gs://text-analysis-323506/data/'"
   ]
  },
  {
   "cell_type": "code",
   "execution_count": 18,
   "id": "1577a085-0e5d-4def-906f-51fd75955414",
   "metadata": {},
   "outputs": [],
   "source": [
    "# Job Config\n",
    "\n",
    "job_config = bigquery.LoadJobConfig(\n",
    "    schema=schema,\n",
    "    skip_leading_rows=1,\n",
    "    # The source format defaults to CSV, so the line below is optional.\n",
    "    source_format=bigquery.SourceFormat.CSV,\n",
    "    # WRITE_TRUNCATE replaces existing data \n",
    "    write_disposition=bigquery.WriteDisposition.WRITE_APPEND\n",
    ")"
   ]
  },
  {
   "cell_type": "code",
   "execution_count": null,
   "id": "a38b0f33-1a7a-4a6c-a69e-a156e2986598",
   "metadata": {},
   "outputs": [],
   "source": [
    "for file in file_list:\n",
    "    os.system(f'gsutil -m cp {file} {gcs_dir}')\n",
    "    gcs_uri = os.path.join(gcs_dir, os.path.basename(file))\n",
    "    \n",
    "    load_job = bq_client.load_table_from_uri(\n",
    "        gcs_uri, table_id, job_config=job_config, \n",
    "    )\n",
    "    \n",
    "    load_job.result()  # Waits for the job to complete."
   ]
  },
  {
   "cell_type": "code",
   "execution_count": null,
   "id": "754c0089-2ce3-4ea5-88b7-28c2d22ead01",
   "metadata": {},
   "outputs": [
    {
     "name": "stdout",
     "output_type": "stream",
     "text": [
      "Loaded 1318215 rows.\n"
     ]
    }
   ],
   "source": [
    "destination_table = bq_client.get_table(table_id)\n",
    "print(\"Loaded {} rows.\".format(destination_table.num_rows))"
   ]
  },
  {
   "cell_type": "markdown",
   "id": "7b75858a-2319-4013-9680-f07fd97a8538",
   "metadata": {},
   "source": [
    "#### Data is in BigQuery table !!!"
   ]
  },
  {
   "cell_type": "markdown",
   "id": "bd45fe78-1a08-4e9e-9fb2-9bb80298e039",
   "metadata": {},
   "source": [
    " "
   ]
  },
  {
   "cell_type": "markdown",
   "id": "d598f4e0-fe2b-4f99-a0af-d13b15bf63cf",
   "metadata": {},
   "source": [
    "## Create Apache Beam Pipeline"
   ]
  },
  {
   "cell_type": "markdown",
   "id": "ae85c959-f7e4-46d8-89c6-0297e32605d4",
   "metadata": {},
   "source": [
    "__Configurations__"
   ]
  },
  {
   "cell_type": "code",
   "execution_count": 22,
   "id": "5f85ba3e-a55b-4082-b926-d3c094b2f6bc",
   "metadata": {},
   "outputs": [],
   "source": [
    "# Setting up the Apache Beam pipeline options.\n",
    "options = pipeline_options.PipelineOptions(flags=[])\n",
    "\n",
    "# Sets the project to the default project in your current Google Cloud environment.\n",
    "_, options.view_as(GoogleCloudOptions).project = google.auth.default()\n",
    "\n",
    "# Sets the Google Cloud Region in which Cloud Dataflow runs.\n",
    "options.view_as(GoogleCloudOptions).region = 'us-east1'\n",
    "\n",
    "options.view_as(GoogleCloudOptions).job_name = f'csvreader-{datetime.now().strftime(\"%Y%m%d-%H%M%S\")}'\n",
    "\n",
    "dataflow_gcs_location = f'gs://text-analysis-323506/{options.view_as(GoogleCloudOptions).job_name}'\n",
    "\n",
    "# The directory to store the output files of the job.\n",
    "output_gcs_location = f\"{dataflow_gcs_location}/output\"\n",
    "\n",
    "# Dataflow Staging Location. This location is used to stage the Dataflow Pipeline and SDK binary.\n",
    "options.view_as(GoogleCloudOptions).staging_location = f\"{dataflow_gcs_location}/staging\"\n",
    "\n",
    "# Dataflow Temp Location. This location is used to store temporary files or intermediate results before finally outputting to the sink.\n",
    "options.view_as(GoogleCloudOptions).temp_location = f\"{dataflow_gcs_location}/temp\""
   ]
  },
  {
   "cell_type": "code",
   "execution_count": 23,
   "id": "8a047af2-da18-4143-894c-d47d44344438",
   "metadata": {},
   "outputs": [],
   "source": [
    "def convert_namespace(element):\n",
    "    from argparse import Namespace\n",
    "    \n",
    "    return Namespace(**element)"
   ]
  },
  {
   "cell_type": "code",
   "execution_count": 24,
   "id": "51df9e6c-ae87-4f2d-9e0d-d9d2ee37678b",
   "metadata": {},
   "outputs": [],
   "source": [
    "def convert_to_df(element):\n",
    "    import pandas as pd\n",
    "    \n",
    "    ns_list = element[1]\n",
    "    ns_list = [vars(ele) for ele in ns_list]\n",
    "    df = pd.DataFrame(ns_list)\n",
    "    return df"
   ]
  },
  {
   "cell_type": "code",
   "execution_count": 25,
   "id": "3de52f7b-e701-4b4d-a2a7-39b12535c6b1",
   "metadata": {},
   "outputs": [],
   "source": [
    "def get_info(df):\n",
    "    return {'columns': list(df.columns), 'Shape': df.shape}"
   ]
  },
  {
   "cell_type": "code",
   "execution_count": 26,
   "id": "4bde4de9-5901-45db-be8d-feecd71ceeb2",
   "metadata": {},
   "outputs": [
    {
     "data": {
      "application/javascript": [
       "\n",
       "        if (typeof window.interactive_beam_jquery == 'undefined') {\n",
       "          var jqueryScript = document.createElement('script');\n",
       "          jqueryScript.src = 'https://code.jquery.com/jquery-3.4.1.slim.min.js';\n",
       "          jqueryScript.type = 'text/javascript';\n",
       "          jqueryScript.onload = function() {\n",
       "            var datatableScript = document.createElement('script');\n",
       "            datatableScript.src = 'https://cdn.datatables.net/1.10.20/js/jquery.dataTables.min.js';\n",
       "            datatableScript.type = 'text/javascript';\n",
       "            datatableScript.onload = function() {\n",
       "              window.interactive_beam_jquery = jQuery.noConflict(true);\n",
       "              window.interactive_beam_jquery(document).ready(function($){\n",
       "                \n",
       "              });\n",
       "            }\n",
       "            document.head.appendChild(datatableScript);\n",
       "          };\n",
       "          document.head.appendChild(jqueryScript);\n",
       "        } else {\n",
       "          window.interactive_beam_jquery(document).ready(function($){\n",
       "            \n",
       "          });\n",
       "        }"
      ]
     },
     "metadata": {},
     "output_type": "display_data"
    },
    {
     "name": "stderr",
     "output_type": "stream",
     "text": [
      "/root/apache-beam-2.33.0/lib/python3.7/site-packages/apache_beam/io/gcp/bigquery.py:1935: BeamDeprecationWarning: options is deprecated since First stable release. References to <pipeline>.options will not be supported\n",
      "  temp_location = pcoll.pipeline.options.view_as(\n"
     ]
    }
   ],
   "source": [
    "# Create pipeline object\n",
    "p = beam.Pipeline(InteractiveRunner(), options=options)\n",
    "\n",
    "# Add pipeline components\n",
    "csv_details =(\n",
    "                p \n",
    "                | 'Get data from BigQuery' >> beam.io.ReadFromBigQuery(query='Select * From text-analysis-323506.dataflow_dataset.df_table',\n",
    "                                                                       use_standard_sql=True, project='text-analysis-323506')\n",
    "                | 'Convert to namespace' >> beam.Map(convert_namespace)\n",
    "                | 'Groupby subject' >> beam.GroupBy('Subject')\n",
    "                | 'Convert to dataframe' >> beam.Map(convert_to_df)\n",
    "                | 'Get dataset info' >> beam.Map(get_info)\n",
    "                | 'Write info to Cloud Storage' >> beam.io.WriteToText(f\"{output_gcs_location}/csv_details-output.txt\")\n",
    "             )"
   ]
  },
  {
   "cell_type": "markdown",
   "id": "b077abe8-e120-464d-8629-683fede0e3e6",
   "metadata": {},
   "source": [
    "#### Visualize Pipeline"
   ]
  },
  {
   "cell_type": "code",
   "execution_count": 27,
   "id": "e46c1bf4-5f45-4b8d-aa08-b959801a8bfc",
   "metadata": {},
   "outputs": [
    {
     "data": {
      "text/html": [
       "\n",
       "            <link rel=\"stylesheet\" href=\"https://stackpath.bootstrapcdn.com/bootstrap/4.4.1/css/bootstrap.min.css\" integrity=\"sha384-Vkoo8x4CGsO3+Hhxv8T/Q5PaXtkKtu6ug5TOeNV6gBiFeWPGFN9MuhOf23Q9Ifjh\" crossorigin=\"anonymous\">\n",
       "            <div id=\"progress_indicator_65336f6aa915ec7b5545703304b0905f\" class=\"spinner-border text-info\" role=\"status\">\n",
       "            </div>"
      ],
      "text/plain": [
       "<IPython.core.display.HTML object>"
      ]
     },
     "metadata": {},
     "output_type": "display_data"
    },
    {
     "data": {
      "text/html": [
       "<?xml version=\"1.0\" encoding=\"UTF-8\" standalone=\"no\"?>\n",
       "<!DOCTYPE svg PUBLIC \"-//W3C//DTD SVG 1.1//EN\"\n",
       " \"http://www.w3.org/Graphics/SVG/1.1/DTD/svg11.dtd\">\n",
       "<!-- Generated by graphviz version 2.40.1 (20161225.0304)\n",
       " -->\n",
       "<!-- Title: G Pages: 1 -->\n",
       "<svg width=\"259pt\" height=\"925pt\"\n",
       " viewBox=\"0.00 0.00 259.00 924.79\" xmlns=\"http://www.w3.org/2000/svg\" xmlns:xlink=\"http://www.w3.org/1999/xlink\">\n",
       "<g id=\"graph0\" class=\"graph\" transform=\"scale(1 1) rotate(0) translate(4 920.7889)\">\n",
       "<title>G</title>\n",
       "<polygon fill=\"#ffffff\" stroke=\"transparent\" points=\"-4,4 -4,-920.7889 255,-920.7889 255,4 -4,4\"/>\n",
       "<!-- [26]: Get data from BigQuery -->\n",
       "<g id=\"node1\" class=\"node\">\n",
       "<title>[26]: Get data from BigQuery</title>\n",
       "<polygon fill=\"none\" stroke=\"#0000ff\" points=\"239,-916.7889 12,-916.7889 12,-880.7889 239,-880.7889 239,-916.7889\"/>\n",
       "<text text-anchor=\"middle\" x=\"125.5\" y=\"-895.0889\" font-family=\"Times,serif\" font-size=\"14.00\" fill=\"#0000ff\">[26]: Get data from BigQuery</text>\n",
       "</g>\n",
       "<!-- pcoll7172 -->\n",
       "<g id=\"node2\" class=\"node\">\n",
       "<title>pcoll7172</title>\n",
       "<ellipse fill=\"none\" stroke=\"#0000ff\" cx=\"125.5\" cy=\"-826.7889\" rx=\"18\" ry=\"18\"/>\n",
       "</g>\n",
       "<!-- [26]: Get data from BigQuery&#45;&gt;pcoll7172 -->\n",
       "<g id=\"edge1\" class=\"edge\">\n",
       "<title>[26]: Get data from BigQuery&#45;&gt;pcoll7172</title>\n",
       "<path fill=\"none\" stroke=\"#000000\" d=\"M125.5,-880.6203C125.5,-872.9199 125.5,-863.7633 125.5,-855.2056\"/>\n",
       "<polygon fill=\"#000000\" stroke=\"#000000\" points=\"129.0001,-855.2022 125.5,-845.2022 122.0001,-855.2022 129.0001,-855.2022\"/>\n",
       "</g>\n",
       "<!-- [26]: Convert to namespace -->\n",
       "<g id=\"node3\" class=\"node\">\n",
       "<title>[26]: Convert to namespace</title>\n",
       "<polygon fill=\"none\" stroke=\"#0000ff\" points=\"233,-772.7889 18,-772.7889 18,-736.7889 233,-736.7889 233,-772.7889\"/>\n",
       "<text text-anchor=\"middle\" x=\"125.5\" y=\"-751.0889\" font-family=\"Times,serif\" font-size=\"14.00\" fill=\"#0000ff\">[26]: Convert to namespace</text>\n",
       "</g>\n",
       "<!-- pcoll7172&#45;&gt;[26]: Convert to namespace -->\n",
       "<g id=\"edge2\" class=\"edge\">\n",
       "<title>pcoll7172&#45;&gt;[26]: Convert to namespace</title>\n",
       "<path fill=\"none\" stroke=\"#000000\" d=\"M125.5,-808.6203C125.5,-800.9199 125.5,-791.7633 125.5,-783.2056\"/>\n",
       "<polygon fill=\"#000000\" stroke=\"#000000\" points=\"129.0001,-783.2022 125.5,-773.2022 122.0001,-783.2022 129.0001,-783.2022\"/>\n",
       "</g>\n",
       "<!-- pcoll8791 -->\n",
       "<g id=\"node4\" class=\"node\">\n",
       "<title>pcoll8791</title>\n",
       "<ellipse fill=\"none\" stroke=\"#0000ff\" cx=\"125.5\" cy=\"-682.7889\" rx=\"18\" ry=\"18\"/>\n",
       "</g>\n",
       "<!-- [26]: Convert to namespace&#45;&gt;pcoll8791 -->\n",
       "<g id=\"edge3\" class=\"edge\">\n",
       "<title>[26]: Convert to namespace&#45;&gt;pcoll8791</title>\n",
       "<path fill=\"none\" stroke=\"#000000\" d=\"M125.5,-736.6203C125.5,-728.9199 125.5,-719.7633 125.5,-711.2056\"/>\n",
       "<polygon fill=\"#000000\" stroke=\"#000000\" points=\"129.0001,-711.2022 125.5,-701.2022 122.0001,-711.2022 129.0001,-711.2022\"/>\n",
       "</g>\n",
       "<!-- [26]: Groupby subject -->\n",
       "<g id=\"node5\" class=\"node\">\n",
       "<title>[26]: Groupby subject</title>\n",
       "<polygon fill=\"none\" stroke=\"#0000ff\" points=\"212,-628.7889 39,-628.7889 39,-592.7889 212,-592.7889 212,-628.7889\"/>\n",
       "<text text-anchor=\"middle\" x=\"125.5\" y=\"-607.0889\" font-family=\"Times,serif\" font-size=\"14.00\" fill=\"#0000ff\">[26]: Groupby subject</text>\n",
       "</g>\n",
       "<!-- pcoll8791&#45;&gt;[26]: Groupby subject -->\n",
       "<g id=\"edge4\" class=\"edge\">\n",
       "<title>pcoll8791&#45;&gt;[26]: Groupby subject</title>\n",
       "<path fill=\"none\" stroke=\"#000000\" d=\"M125.5,-664.6203C125.5,-656.9199 125.5,-647.7633 125.5,-639.2056\"/>\n",
       "<polygon fill=\"#000000\" stroke=\"#000000\" points=\"129.0001,-639.2022 125.5,-629.2022 122.0001,-639.2022 129.0001,-639.2022\"/>\n",
       "</g>\n",
       "<!-- pcoll4890 -->\n",
       "<g id=\"node6\" class=\"node\">\n",
       "<title>pcoll4890</title>\n",
       "<ellipse fill=\"none\" stroke=\"#0000ff\" cx=\"125.5\" cy=\"-538.7889\" rx=\"18\" ry=\"18\"/>\n",
       "</g>\n",
       "<!-- [26]: Groupby subject&#45;&gt;pcoll4890 -->\n",
       "<g id=\"edge5\" class=\"edge\">\n",
       "<title>[26]: Groupby subject&#45;&gt;pcoll4890</title>\n",
       "<path fill=\"none\" stroke=\"#000000\" d=\"M125.5,-592.6203C125.5,-584.9199 125.5,-575.7633 125.5,-567.2056\"/>\n",
       "<polygon fill=\"#000000\" stroke=\"#000000\" points=\"129.0001,-567.2022 125.5,-557.2022 122.0001,-567.2022 129.0001,-567.2022\"/>\n",
       "</g>\n",
       "<!-- [26]: Convert to dataframe -->\n",
       "<g id=\"node7\" class=\"node\">\n",
       "<title>[26]: Convert to dataframe</title>\n",
       "<polygon fill=\"none\" stroke=\"#0000ff\" points=\"230,-484.7889 21,-484.7889 21,-448.7889 230,-448.7889 230,-484.7889\"/>\n",
       "<text text-anchor=\"middle\" x=\"125.5\" y=\"-463.0889\" font-family=\"Times,serif\" font-size=\"14.00\" fill=\"#0000ff\">[26]: Convert to dataframe</text>\n",
       "</g>\n",
       "<!-- pcoll4890&#45;&gt;[26]: Convert to dataframe -->\n",
       "<g id=\"edge6\" class=\"edge\">\n",
       "<title>pcoll4890&#45;&gt;[26]: Convert to dataframe</title>\n",
       "<path fill=\"none\" stroke=\"#000000\" d=\"M125.5,-520.6203C125.5,-512.9199 125.5,-503.7633 125.5,-495.2056\"/>\n",
       "<polygon fill=\"#000000\" stroke=\"#000000\" points=\"129.0001,-495.2022 125.5,-485.2022 122.0001,-495.2022 129.0001,-495.2022\"/>\n",
       "</g>\n",
       "<!-- pcoll9922 -->\n",
       "<g id=\"node8\" class=\"node\">\n",
       "<title>pcoll9922</title>\n",
       "<ellipse fill=\"none\" stroke=\"#0000ff\" cx=\"125.5\" cy=\"-394.7889\" rx=\"18\" ry=\"18\"/>\n",
       "</g>\n",
       "<!-- [26]: Convert to dataframe&#45;&gt;pcoll9922 -->\n",
       "<g id=\"edge7\" class=\"edge\">\n",
       "<title>[26]: Convert to dataframe&#45;&gt;pcoll9922</title>\n",
       "<path fill=\"none\" stroke=\"#000000\" d=\"M125.5,-448.6203C125.5,-440.9199 125.5,-431.7633 125.5,-423.2056\"/>\n",
       "<polygon fill=\"#000000\" stroke=\"#000000\" points=\"129.0001,-423.2022 125.5,-413.2022 122.0001,-423.2022 129.0001,-423.2022\"/>\n",
       "</g>\n",
       "<!-- [26]: Get dataset info -->\n",
       "<g id=\"node9\" class=\"node\">\n",
       "<title>[26]: Get dataset info</title>\n",
       "<polygon fill=\"none\" stroke=\"#0000ff\" points=\"210,-340.7889 41,-340.7889 41,-304.7889 210,-304.7889 210,-340.7889\"/>\n",
       "<text text-anchor=\"middle\" x=\"125.5\" y=\"-319.0889\" font-family=\"Times,serif\" font-size=\"14.00\" fill=\"#0000ff\">[26]: Get dataset info</text>\n",
       "</g>\n",
       "<!-- pcoll9922&#45;&gt;[26]: Get dataset info -->\n",
       "<g id=\"edge8\" class=\"edge\">\n",
       "<title>pcoll9922&#45;&gt;[26]: Get dataset info</title>\n",
       "<path fill=\"none\" stroke=\"#000000\" d=\"M125.5,-376.6203C125.5,-368.9199 125.5,-359.7633 125.5,-351.2056\"/>\n",
       "<polygon fill=\"#000000\" stroke=\"#000000\" points=\"129.0001,-351.2022 125.5,-341.2022 122.0001,-351.2022 129.0001,-351.2022\"/>\n",
       "</g>\n",
       "<!-- pcoll6525 -->\n",
       "<g id=\"node10\" class=\"node\">\n",
       "<title>pcoll6525</title>\n",
       "<ellipse fill=\"none\" stroke=\"#0000ff\" cx=\"125.5\" cy=\"-250.7889\" rx=\"18\" ry=\"18\"/>\n",
       "</g>\n",
       "<!-- [26]: Get dataset info&#45;&gt;pcoll6525 -->\n",
       "<g id=\"edge9\" class=\"edge\">\n",
       "<title>[26]: Get dataset info&#45;&gt;pcoll6525</title>\n",
       "<path fill=\"none\" stroke=\"#000000\" d=\"M125.5,-304.6203C125.5,-296.9199 125.5,-287.7633 125.5,-279.2056\"/>\n",
       "<polygon fill=\"#000000\" stroke=\"#000000\" points=\"129.0001,-279.2022 125.5,-269.2022 122.0001,-279.2022 129.0001,-279.2022\"/>\n",
       "</g>\n",
       "<!-- [26]: Write info to Cloud Storage -->\n",
       "<g id=\"node11\" class=\"node\">\n",
       "<title>[26]: Write info to Cloud Storage</title>\n",
       "<polygon fill=\"none\" stroke=\"#0000ff\" points=\"251,-196.7889 0,-196.7889 0,-160.7889 251,-160.7889 251,-196.7889\"/>\n",
       "<text text-anchor=\"middle\" x=\"125.5\" y=\"-175.0889\" font-family=\"Times,serif\" font-size=\"14.00\" fill=\"#0000ff\">[26]: Write info to Cloud Storage</text>\n",
       "</g>\n",
       "<!-- pcoll6525&#45;&gt;[26]: Write info to Cloud Storage -->\n",
       "<g id=\"edge10\" class=\"edge\">\n",
       "<title>pcoll6525&#45;&gt;[26]: Write info to Cloud Storage</title>\n",
       "<path fill=\"none\" stroke=\"#000000\" d=\"M125.5,-232.6203C125.5,-224.9199 125.5,-215.7633 125.5,-207.2056\"/>\n",
       "<polygon fill=\"#000000\" stroke=\"#000000\" points=\"129.0001,-207.2022 125.5,-197.2022 122.0001,-207.2022 129.0001,-207.2022\"/>\n",
       "</g>\n",
       "<!-- csv_details -->\n",
       "<g id=\"node12\" class=\"node\">\n",
       "<title>csv_details</title>\n",
       "<ellipse fill=\"none\" stroke=\"#0000ff\" cx=\"125.5\" cy=\"-62.3945\" rx=\"62.2891\" ry=\"62.2891\"/>\n",
       "<text text-anchor=\"middle\" x=\"125.5\" y=\"-58.6945\" font-family=\"Times,serif\" font-size=\"14.00\" fill=\"#0000ff\">csv_details</text>\n",
       "</g>\n",
       "<!-- [26]: Write info to Cloud Storage&#45;&gt;csv_details -->\n",
       "<g id=\"edge11\" class=\"edge\">\n",
       "<title>[26]: Write info to Cloud Storage&#45;&gt;csv_details</title>\n",
       "<path fill=\"none\" stroke=\"#000000\" d=\"M125.5,-160.6023C125.5,-153.2944 125.5,-144.3552 125.5,-134.8772\"/>\n",
       "<polygon fill=\"#000000\" stroke=\"#000000\" points=\"129.0001,-134.8508 125.5,-124.8508 122.0001,-134.8508 129.0001,-134.8508\"/>\n",
       "</g>\n",
       "</g>\n",
       "</svg>\n"
      ],
      "text/plain": [
       "<IPython.core.display.HTML object>"
      ]
     },
     "metadata": {},
     "output_type": "display_data"
    },
    {
     "data": {
      "application/javascript": [
       "\n",
       "        if (typeof window.interactive_beam_jquery == 'undefined') {\n",
       "          var jqueryScript = document.createElement('script');\n",
       "          jqueryScript.src = 'https://code.jquery.com/jquery-3.4.1.slim.min.js';\n",
       "          jqueryScript.type = 'text/javascript';\n",
       "          jqueryScript.onload = function() {\n",
       "            var datatableScript = document.createElement('script');\n",
       "            datatableScript.src = 'https://cdn.datatables.net/1.10.20/js/jquery.dataTables.min.js';\n",
       "            datatableScript.type = 'text/javascript';\n",
       "            datatableScript.onload = function() {\n",
       "              window.interactive_beam_jquery = jQuery.noConflict(true);\n",
       "              window.interactive_beam_jquery(document).ready(function($){\n",
       "                \n",
       "            $(\"#progress_indicator_65336f6aa915ec7b5545703304b0905f\").remove();\n",
       "              });\n",
       "            }\n",
       "            document.head.appendChild(datatableScript);\n",
       "          };\n",
       "          document.head.appendChild(jqueryScript);\n",
       "        } else {\n",
       "          window.interactive_beam_jquery(document).ready(function($){\n",
       "            \n",
       "            $(\"#progress_indicator_65336f6aa915ec7b5545703304b0905f\").remove();\n",
       "          });\n",
       "        }"
      ]
     },
     "metadata": {},
     "output_type": "display_data"
    }
   ],
   "source": [
    "ib.show_graph(p)"
   ]
  },
  {
   "cell_type": "code",
   "execution_count": 108,
   "id": "f0a09f65-e4e9-4cfa-aeee-5534663b2b71",
   "metadata": {},
   "outputs": [],
   "source": [
    "# start_time = datetime.now()\n",
    "# p.run().wait_until_finish()\n",
    "# end_time = datetime.now()"
   ]
  },
  {
   "cell_type": "markdown",
   "id": "f3e1351b-7a53-4e83-98f1-7c8faae652ea",
   "metadata": {},
   "source": [
    "### Run the pipeline on Cloud Dataflow"
   ]
  },
  {
   "cell_type": "code",
   "execution_count": 109,
   "id": "25201b66-449d-4a89-9652-91d32c8b1654",
   "metadata": {},
   "outputs": [
    {
     "name": "stderr",
     "output_type": "stream",
     "text": [
      "WARNING:root:Make sure that locally built Python SDK docker image has Python 3.7 interpreter.\n"
     ]
    }
   ],
   "source": [
    "# Submit job\n",
    "# Important: Enable dataflow api if not enabled, in google cloud platform console\n",
    "pipeline_result = DataflowRunner().run_pipeline(p, options=options)"
   ]
  },
  {
   "cell_type": "markdown",
   "id": "38840801-a490-40a4-80c1-e6a4aa03e7cc",
   "metadata": {},
   "source": [
    "#### Results are written into 'output_gcs_location' specified in configurations section."
   ]
  },
  {
   "cell_type": "code",
   "execution_count": null,
   "id": "86196518-a633-4220-9aae-d80e1915e3b4",
   "metadata": {},
   "outputs": [],
   "source": []
  }
 ],
 "metadata": {
  "kernelspec": {
   "display_name": "1. Apache Beam 2.33.0 for Python 3",
   "language": "python",
   "name": "1-apache-beam-2.33.0"
  },
  "language_info": {
   "codemirror_mode": {
    "name": "ipython",
    "version": 3
   },
   "file_extension": ".py",
   "mimetype": "text/x-python",
   "name": "python",
   "nbconvert_exporter": "python",
   "pygments_lexer": "ipython3",
   "version": "3.7.12"
  }
 },
 "nbformat": 4,
 "nbformat_minor": 5
}
