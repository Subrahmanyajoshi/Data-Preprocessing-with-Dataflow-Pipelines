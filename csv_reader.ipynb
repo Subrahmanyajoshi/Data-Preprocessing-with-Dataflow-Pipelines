{
 "cells": [
  {
   "cell_type": "code",
   "execution_count": 41,
   "id": "4ca772d1-1b6b-4f59-a65d-cbebbb363659",
   "metadata": {},
   "outputs": [],
   "source": [
    "import apache_beam as beam\n",
    "import sys\n",
    "import csv"
   ]
  },
  {
   "cell_type": "code",
   "execution_count": 91,
   "id": "be9642f8-55e6-4805-9ab5-a8d5ae97828d",
   "metadata": {},
   "outputs": [],
   "source": [
    "def print_row(element):\n",
    "    print(element)\n",
    "    return\n",
    "\n",
    "def parse_file(element):\n",
    "    for line in csv.reader([element], quotechar='\"', delimiter=',', quoting=csv.QUOTE_ALL, skipinitialspace=True):\n",
    "        return line"
   ]
  },
  {
   "cell_type": "code",
   "execution_count": 92,
   "id": "056fe261-0746-47da-810c-14a93d53cde0",
   "metadata": {},
   "outputs": [],
   "source": [
    "p = beam.Pipeline(argv=sys.argv)"
   ]
  },
  {
   "cell_type": "code",
   "execution_count": 103,
   "id": "4bde4de9-5901-45db-be8d-feecd71ceeb2",
   "metadata": {},
   "outputs": [],
   "source": [
    "parsed_csv = (\n",
    "                p \n",
    "                | 'Read input file' >> beam.io.ReadFromText('./*.csv')\n",
    "                | 'Parse file' >> beam.FlatMap(parse_file)\n",
    "                | 'Print output' >> beam.Map(print_row)\n",
    "             )"
   ]
  },
  {
   "cell_type": "code",
   "execution_count": null,
   "id": "bfb2b8dd-8e8b-4d81-9ec7-f4c05b6c26d6",
   "metadata": {},
   "outputs": [],
   "source": [
    "p.run().wait_until_finish()"
   ]
  },
  {
   "cell_type": "code",
   "execution_count": null,
   "id": "2521bc6c-2e0c-4e14-897e-f2deae6eae57",
   "metadata": {},
   "outputs": [],
   "source": []
  },
  {
   "cell_type": "code",
   "execution_count": null,
   "id": "bab7c190-5adc-4aba-ae93-3405ea3713d1",
   "metadata": {},
   "outputs": [],
   "source": []
  }
 ],
 "metadata": {
  "kernelspec": {
   "display_name": "1. Apache Beam 2.33.0 for Python 3",
   "language": "python",
   "name": "1-apache-beam-2.33.0"
  },
  "language_info": {
   "codemirror_mode": {
    "name": "ipython",
    "version": 3
   },
   "file_extension": ".py",
   "mimetype": "text/x-python",
   "name": "python",
   "nbconvert_exporter": "python",
   "pygments_lexer": "ipython3",
   "version": "3.7.10"
  }
 },
 "nbformat": 4,
 "nbformat_minor": 5
}
